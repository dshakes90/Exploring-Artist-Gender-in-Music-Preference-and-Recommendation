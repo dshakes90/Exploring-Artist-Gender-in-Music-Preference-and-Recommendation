{
 "cells": [
  {
   "cell_type": "markdown",
   "metadata": {},
   "source": [
    "# Exploring the Effect of Collaborative Filtering on Gender Bias Disparity in Last-FM Listening Events\n",
    "\n",
    "Author: Dougal Shakespeare, Lorenzo Porcaro \n",
    "\n",
    ">Analysis of gender distribution achieved by merging the LFM-1b dataset consisting of Last FM listening histories with artist gender meta-data found in a local config of the MusicBrainz db. The metric of bias-disparity is utalised to assess relative increases in biases towards item categories (in this case gender) subsequent to the production of music recommendations through CF methodologies. "
   ]
  },
  {
   "cell_type": "markdown",
   "metadata": {},
   "source": [
    "## 0. Downloading Last-fm Datasets\n",
    "\n",
    "### Data Dump Download\n",
    "\n",
    "First download the LFM-1b artist file with gender meta data from music brainz to the following link to the path ```data/```: \n",
    "\n",
    "* https://drive.google.com/uc?export=download&id=1pfMoV-5l-SxRvO-9kAXsos6WjoJCbRuX\n",
    "\n",
    "### LFM-1b Download\n",
    "\n",
    "Then download the LFM-1b dataset from the following link and extract all files to the path ```data/```:\n",
    "\n",
    "* http://www.cp.jku.at/datasets/LFM-1b/\n",
    "\n",
    "### LFM-1b-Le75: Modified Listening Events File\n",
    "\n",
    "We also suggest you download the modified listening events file ```LFM-1b-Le75.csv```to the path ```data/``` from the following link:\n",
    "\n",
    "* https://drive.google.com/file/d/1SOGaG_UJg7KHH10e0p_EJjwE6UdEIgU5/view?usp=sharing\n",
    "\n",
    "For this list we have processed the matrix created. Processing of this file was created as described in the following paper [1]:\n",
    "\n",
    "> _'The number of unique pairs corresponds to the number of entries in the UAM, which is a 120,175 × 585,095 sparse matrix. Note that these numbers are smaller than the total numbers of unique users and artists reported in Table 3 since we discarded users who listened to less than 10 unique artists and artists listened to by less than 10 users when creating the UAM. We assume that data about these artists and users is too sparse to be informative, or just noise. In particular, this approach efficiently filters artists that are misspelled, which is evidenced by the substantial reduction of their number by 81.66% (from 3,190,371 to 585,095). The reduction in terms of users is much smaller (by 0.21%, from 120,322 to 120,175), because users with such a narrow music artist taste are almost non-existent on Last.fm. This filtering step yields a UAM that is very well manageable.'\n",
    "\n",
    "We then disregarded user listening which have < 75% known gender and create a csv file of user listening events to enable us to adequently analyse gender distribution.\n",
    "\n",
    "[1] http://www.cp.jku.at/people/schedl/Research/Publications/pdf/schedl_icmr_2016.pdf"
   ]
  },
  {
   "cell_type": "markdown",
   "metadata": {},
   "source": [
    "## 1. Preprocessing / Cleaning\n",
    "\n",
    "We must first remove all artists whose name is a web link as this data is deemed to be dirty. This can be achieved using a simple regex expression (see below):\n"
   ]
  },
  {
   "cell_type": "code",
   "execution_count": 1,
   "metadata": {},
   "outputs": [],
   "source": [
    "import random as rd\n",
    "import pandas as pd\n",
    "import numpy as np\n",
    "import matplotlib as mplt\n",
    "import matplotlib.pyplot as plt\n",
    "from collections import defaultdict\n",
    "from scipy import stats\n",
    "import requests\n",
    "import re\n",
    "import os\n",
    "import h5py\n",
    "from scipy import sparse\n",
    "import csv\n",
    "import random\n",
    "\n",
    "%matplotlib inline\n",
    "plt.rcParams[\"figure.figsize\"] = [10, 5]"
   ]
  },
  {
   "cell_type": "code",
   "execution_count": 2,
   "metadata": {},
   "outputs": [],
   "source": [
    "#base_path = '/media/dshakes/Elements1/LFM1b/' #todo: change to be data before submitting\n",
    "\n",
    "# filtes from the LFM-1b dataset\n",
    "UAM_MATLAB_FILE = 'LFM-1b/LFM-1b_LEs.mat' # user-artist matrix\n",
    "user_file = 'LFM-1b/LFM-1b_users.txt'\n",
    "user_events_file = 'LFM-1b/LFM-1b_LEs.txt'\n",
    "\n",
    "# files created by data wrangling with MusicBrainz \n",
    "dirty_artist_gender_file = 'baseline-data/LFM1b-MB-artists.txt'\n",
    "\n",
    "lfm1b_le75_path = 'baseline-data/LFM-1b-Le75.csv'\n",
    "lfm1b_le75_filtered_mf_path = 'baseline-data/LFM-1b-Le75_mf.csv'\n",
    "lfm1b_le75_artists_path = 'baseline-data/artists-lfm1b75.csv'\n",
    "lfm1b_le75_users_path = 'baseline-data/users-lfm1b75.csv'"
   ]
  },
  {
   "cell_type": "code",
   "execution_count": 3,
   "metadata": {},
   "outputs": [
    {
     "data": {
      "text/html": [
       "<div>\n",
       "<style scoped>\n",
       "    .dataframe tbody tr th:only-of-type {\n",
       "        vertical-align: middle;\n",
       "    }\n",
       "\n",
       "    .dataframe tbody tr th {\n",
       "        vertical-align: top;\n",
       "    }\n",
       "\n",
       "    .dataframe thead th {\n",
       "        text-align: right;\n",
       "    }\n",
       "</style>\n",
       "<table border=\"1\" class=\"dataframe\">\n",
       "  <thead>\n",
       "    <tr style=\"text-align: right;\">\n",
       "      <th></th>\n",
       "      <th>id</th>\n",
       "      <th>artist</th>\n",
       "      <th>gender_dist</th>\n",
       "      <th>identified_gender</th>\n",
       "    </tr>\n",
       "  </thead>\n",
       "  <tbody>\n",
       "    <tr>\n",
       "      <th>0</th>\n",
       "      <td>1</td>\n",
       "      <td>Megadeth</td>\n",
       "      <td>4/20/0/0/0</td>\n",
       "      <td>0.0</td>\n",
       "    </tr>\n",
       "    <tr>\n",
       "      <th>1</th>\n",
       "      <td>2</td>\n",
       "      <td>Lil Wayne</td>\n",
       "      <td>0/1/0/0/0</td>\n",
       "      <td>0.0</td>\n",
       "    </tr>\n",
       "    <tr>\n",
       "      <th>2</th>\n",
       "      <td>3</td>\n",
       "      <td>Foo Fighters</td>\n",
       "      <td>0/8/0/0/0</td>\n",
       "      <td>0.0</td>\n",
       "    </tr>\n",
       "    <tr>\n",
       "      <th>3</th>\n",
       "      <td>4</td>\n",
       "      <td>Porcupine Tree</td>\n",
       "      <td>0/6/0/0/0</td>\n",
       "      <td>0.0</td>\n",
       "    </tr>\n",
       "    <tr>\n",
       "      <th>4</th>\n",
       "      <td>5</td>\n",
       "      <td>No-Man</td>\n",
       "      <td>1/3/0/0/0</td>\n",
       "      <td>0.0</td>\n",
       "    </tr>\n",
       "  </tbody>\n",
       "</table>\n",
       "</div>"
      ],
      "text/plain": [
       "   id          artist gender_dist  identified_gender\n",
       "0   1        Megadeth  4/20/0/0/0                0.0\n",
       "1   2       Lil Wayne   0/1/0/0/0                0.0\n",
       "2   3    Foo Fighters   0/8/0/0/0                0.0\n",
       "3   4  Porcupine Tree   0/6/0/0/0                0.0\n",
       "4   5          No-Man   1/3/0/0/0                0.0"
      ]
     },
     "execution_count": 3,
     "metadata": {},
     "output_type": "execute_result"
    }
   ],
   "source": [
    "# Load the artist data into a Pandas dataframe\n",
    "cols = ['id', 'artist', 'gender_dist']\n",
    "artist_gender = pd.read_csv(dirty_artist_gender_file, sep='\\t', names=cols)\n",
    "\n",
    "# initialise new collumn in dataframe to represent classified gender \n",
    "artist_gender['identified_gender'] = np.zeros(len(artist_gender))\n",
    "\n",
    "# print sample of dataframe\n",
    "artist_gender.head()"
   ]
  },
  {
   "cell_type": "markdown",
   "metadata": {},
   "source": [
    "## 2. Gender Classification:\n",
    "\n",
    "The next step is to classify a gender based on the artists gender_dist. To achieve this we will first consider classifiying gender by which ever gender in the dist has a majority."
   ]
  },
  {
   "cell_type": "code",
   "execution_count": 4,
   "metadata": {},
   "outputs": [],
   "source": [
    "# Parse the field gender_dist to be an array for ease of access as it is currently stored as a string in df\n",
    "def parse_gender(g_dist):\n",
    "    g_count = g_dist.split(\"/\")   \n",
    "    return list(map(int, g_count))\n",
    "\n",
    "gender_dist_list = artist_gender['gender_dist'].map(parse_gender)\n",
    "artist_gender = artist_gender.assign(gender_dist = gender_dist_list)"
   ]
  },
  {
   "cell_type": "code",
   "execution_count": 5,
   "metadata": {},
   "outputs": [],
   "source": [
    "# finds index of the maximum values, if multiple, make random selection\n",
    "def classify_gender_majority(g):\n",
    "    max_indexes = [i for i, x in enumerate(g) if x == max(g)]\n",
    "    return random.choice(max_indexes)\n",
    "\n",
    "# classify gender\n",
    "majority_gender = gender_dist_list.map(classify_gender_majority)\n",
    "# reasign the data frame\n",
    "artist_gender = artist_gender.assign(identified_gender = majority_gender)"
   ]
  },
  {
   "cell_type": "code",
   "execution_count": 6,
   "metadata": {},
   "outputs": [],
   "source": [
    "## Print stats of artist gender distribution in LFM-1b-MB dataset\n",
    "def compute_artist_gender_dist(df_a):\n",
    "    artist_u = df_a[df_a.identified_gender == 0]\n",
    "    artist_m = df_a[df_a.identified_gender == 1]\n",
    "    artist_f = df_a[df_a.identified_gender == 2]\n",
    "    artist_o = df_a[df_a.identified_gender == 3]\n",
    "    artist_na = df_a[df_a.identified_gender == 4] \n",
    "    return artist_u, artist_m, artist_f, artist_o, artist_na"
   ]
  },
  {
   "cell_type": "code",
   "execution_count": 7,
   "metadata": {},
   "outputs": [
    {
     "data": {
      "text/html": [
       "<div>\n",
       "<style scoped>\n",
       "    .dataframe tbody tr th:only-of-type {\n",
       "        vertical-align: middle;\n",
       "    }\n",
       "\n",
       "    .dataframe tbody tr th {\n",
       "        vertical-align: top;\n",
       "    }\n",
       "\n",
       "    .dataframe thead th {\n",
       "        text-align: right;\n",
       "    }\n",
       "</style>\n",
       "<table border=\"1\" class=\"dataframe\">\n",
       "  <thead>\n",
       "    <tr style=\"text-align: right;\">\n",
       "      <th></th>\n",
       "      <th>id</th>\n",
       "      <th>artist</th>\n",
       "      <th>gender_dist</th>\n",
       "      <th>identified_gender</th>\n",
       "    </tr>\n",
       "  </thead>\n",
       "  <tbody>\n",
       "    <tr>\n",
       "      <th>0</th>\n",
       "      <td>1</td>\n",
       "      <td>Megadeth</td>\n",
       "      <td>[4, 20, 0, 0, 0]</td>\n",
       "      <td>1</td>\n",
       "    </tr>\n",
       "    <tr>\n",
       "      <th>1</th>\n",
       "      <td>2</td>\n",
       "      <td>Lil Wayne</td>\n",
       "      <td>[0, 1, 0, 0, 0]</td>\n",
       "      <td>1</td>\n",
       "    </tr>\n",
       "    <tr>\n",
       "      <th>2</th>\n",
       "      <td>3</td>\n",
       "      <td>Foo Fighters</td>\n",
       "      <td>[0, 8, 0, 0, 0]</td>\n",
       "      <td>1</td>\n",
       "    </tr>\n",
       "    <tr>\n",
       "      <th>3</th>\n",
       "      <td>4</td>\n",
       "      <td>Porcupine Tree</td>\n",
       "      <td>[0, 6, 0, 0, 0]</td>\n",
       "      <td>1</td>\n",
       "    </tr>\n",
       "    <tr>\n",
       "      <th>4</th>\n",
       "      <td>5</td>\n",
       "      <td>No-Man</td>\n",
       "      <td>[1, 3, 0, 0, 0]</td>\n",
       "      <td>1</td>\n",
       "    </tr>\n",
       "  </tbody>\n",
       "</table>\n",
       "</div>"
      ],
      "text/plain": [
       "   id          artist       gender_dist  identified_gender\n",
       "0   1        Megadeth  [4, 20, 0, 0, 0]                  1\n",
       "1   2       Lil Wayne   [0, 1, 0, 0, 0]                  1\n",
       "2   3    Foo Fighters   [0, 8, 0, 0, 0]                  1\n",
       "3   4  Porcupine Tree   [0, 6, 0, 0, 0]                  1\n",
       "4   5          No-Man   [1, 3, 0, 0, 0]                  1"
      ]
     },
     "execution_count": 7,
     "metadata": {},
     "output_type": "execute_result"
    }
   ],
   "source": [
    "# Print our newly updated artist_gender dataframe with an array for gender_dist and identified_gender field\n",
    "artist_gender.head()"
   ]
  },
  {
   "cell_type": "markdown",
   "metadata": {},
   "source": [
    "## 3. Gender Analysis with the full LFM-1b data-set\n",
    "\n",
    "We will first consider analysis with the full data-set before considering the user artist matrix distributions which will be used when generating CF recommendations."
   ]
  },
  {
   "cell_type": "markdown",
   "metadata": {},
   "source": [
    "### 3.1. Gender Distribution Plots For Artists in LFM-1b\n",
    "\n",
    "We are able to identify gender using the 'majority' criteria on 13.1% of artists in the LFM-1b dataset. \n",
    "\n",
    "In pleniminary experiments, idenficiation rates were around 2-4%. \n",
    "\n",
    "This was increased by using a fuzzy match which returns 5 possible artist candidates from the MusicBrainz db. \n",
    "\n",
    "Artist selection was then achieved through a song matching criteria where the candidate artist whos artist songs had the highest unison with the LFM-1B artist was selected (when unison > 1)."
   ]
  },
  {
   "cell_type": "code",
   "execution_count": 8,
   "metadata": {},
   "outputs": [
    {
     "name": "stdout",
     "output_type": "stream",
     "text": [
      "- Undef Gender Count: 2765950\n",
      "- Male Gender Count: 347549\n",
      "- Female Gender Count: 76154\n",
      "- Other Gender Count: 322\n",
      "- NA Gender Count: 396\n",
      "- Total: 3190371\n"
     ]
    }
   ],
   "source": [
    "artist_u, artist_m, artist_f, artist_o, artist_na = compute_artist_gender_dist(artist_gender)\n",
    "#male_count, na_count, female_count, other_count\n",
    "male_count = len(artist_m)\n",
    "female_count = len(artist_f)\n",
    "undef_count = len(artist_u)\n",
    "other_count = len(artist_o)\n",
    "na_count = len(artist_na)\n",
    "total_count = male_count + female_count + undef_count + other_count + na_count\n",
    "\n",
    "print ('- Undef Gender Count:', undef_count)\n",
    "print ('- Male Gender Count:', male_count)\n",
    "print ('- Female Gender Count:', female_count)\n",
    "print ('- Other Gender Count:', other_count)\n",
    "print ('- NA Gender Count:', na_count)\n",
    "print ('- Total:', total_count)"
   ]
  },
  {
   "cell_type": "code",
   "execution_count": 9,
   "metadata": {},
   "outputs": [
    {
     "data": {
      "image/png": "[encoded data removed]",
      "text/plain": [
       "<Figure size 720x720 with 1 Axes>"
      ]
     },
     "metadata": {},
     "output_type": "display_data"
    }
   ],
   "source": [
    "# Pie chart to display succesfully identified artists\n",
    "labels = 'Identifed gender', 'Unidentified gender'\n",
    "sizes = [total_count - undef_count, undef_count]\n",
    "\n",
    "fig1, ax1 = plt.subplots(figsize=(10, 10))\n",
    "explode = (0.2, 0) \n",
    "colors = ['#FF8282','#F5F1ED']\n",
    "\n",
    "patches, texts, autotexts = ax1.pie(sizes, explode = explode, labels=labels, colors = colors, autopct='%1.1f%%',\n",
    "        shadow=True, startangle=40)\n",
    "\n",
    "plt.legend(patches, labels, loc=\"best\")\n",
    "\n",
    "ax1.axis('equal')  # Equal aspect ratio ensures that pie is drawn as a circle.\n",
    "\n",
    "for text in texts:\n",
    "    text.set_color('grey')\n",
    "for autotext in autotexts:\n",
    "    autotext.set_color('grey')\n",
    "\n",
    "plt.rcParams[\"figure.figsize\"] = (2,2)\n",
    "plt.title('LFM-1b Artist Identified Gender Distribution')\n",
    "plt.show()"
   ]
  },
  {
   "cell_type": "code",
   "execution_count": 10,
   "metadata": {},
   "outputs": [
    {
     "data": {
      "image/png": "[encoded data removed]",
      "text/plain": [
       "<Figure size 720x720 with 1 Axes>"
      ]
     },
     "metadata": {},
     "output_type": "display_data"
    }
   ],
   "source": [
    "# Pie chart, where the slices will be ordered and plotted counter-clockwise:\n",
    "\n",
    "labels = 'Male', 'NA', 'Female', 'Other' \n",
    "sizes = [male_count, na_count, female_count, other_count]\n",
    "\n",
    "fig1, ax1 = plt.subplots(figsize=(10, 10))\n",
    "\n",
    "explode = (0, 0.2, 0.4, 0.1) \n",
    "colors = ['#ff9999','#66b3ff','#99ff99','#ffcc99', '#ffcc91']\n",
    "\n",
    "patches, texts, autotexts = ax1.pie(sizes, explode = explode, labels=labels, colors = colors, autopct='%1.1f%%',\n",
    "        shadow=True, startangle=40)\n",
    "\n",
    "plt.legend(patches, labels, loc=\"best\")\n",
    "\n",
    "ax1.axis('equal')  # Equal aspect ratio ensures that pie is drawn as a circle.\n",
    "\n",
    "for text in texts:\n",
    "    text.set_color('grey')\n",
    "for autotext in autotexts:\n",
    "    autotext.set_color('grey')\n",
    "\n",
    "plt.rcParams[\"figure.figsize\"] = (2,2)\n",
    "plt.title('LFM-1b Gender Distribution for Identified Artists (Not Undef)')\n",
    "\n",
    "plt.show()"
   ]
  },
  {
   "cell_type": "markdown",
   "metadata": {},
   "source": [
    "### 3.2. Gender Analysis For Users in The LFM-1b dataset\n"
   ]
  },
  {
   "cell_type": "code",
   "execution_count": 11,
   "metadata": {},
   "outputs": [
    {
     "data": {
      "text/html": [
       "<div>\n",
       "<style scoped>\n",
       "    .dataframe tbody tr th:only-of-type {\n",
       "        vertical-align: middle;\n",
       "    }\n",
       "\n",
       "    .dataframe tbody tr th {\n",
       "        vertical-align: top;\n",
       "    }\n",
       "\n",
       "    .dataframe thead th {\n",
       "        text-align: right;\n",
       "    }\n",
       "</style>\n",
       "<table border=\"1\" class=\"dataframe\">\n",
       "  <thead>\n",
       "    <tr style=\"text-align: right;\">\n",
       "      <th></th>\n",
       "      <th>user_id</th>\n",
       "      <th>country</th>\n",
       "      <th>age</th>\n",
       "      <th>gender</th>\n",
       "      <th>playcount</th>\n",
       "      <th>registered_unixtime</th>\n",
       "    </tr>\n",
       "  </thead>\n",
       "  <tbody>\n",
       "    <tr>\n",
       "      <th>0</th>\n",
       "      <td>384</td>\n",
       "      <td>UK</td>\n",
       "      <td>35</td>\n",
       "      <td>m</td>\n",
       "      <td>42139</td>\n",
       "      <td>1035849600</td>\n",
       "    </tr>\n",
       "    <tr>\n",
       "      <th>1</th>\n",
       "      <td>1206</td>\n",
       "      <td>NaN</td>\n",
       "      <td>-1</td>\n",
       "      <td>n</td>\n",
       "      <td>33103</td>\n",
       "      <td>1035849600</td>\n",
       "    </tr>\n",
       "    <tr>\n",
       "      <th>2</th>\n",
       "      <td>2622</td>\n",
       "      <td>NaN</td>\n",
       "      <td>-1</td>\n",
       "      <td>NaN</td>\n",
       "      <td>2030</td>\n",
       "      <td>1037404800</td>\n",
       "    </tr>\n",
       "    <tr>\n",
       "      <th>3</th>\n",
       "      <td>2732</td>\n",
       "      <td>NaN</td>\n",
       "      <td>-1</td>\n",
       "      <td>n</td>\n",
       "      <td>147</td>\n",
       "      <td>1037577600</td>\n",
       "    </tr>\n",
       "    <tr>\n",
       "      <th>4</th>\n",
       "      <td>3653</td>\n",
       "      <td>UK</td>\n",
       "      <td>31</td>\n",
       "      <td>m</td>\n",
       "      <td>18504</td>\n",
       "      <td>1041033600</td>\n",
       "    </tr>\n",
       "  </tbody>\n",
       "</table>\n",
       "</div>"
      ],
      "text/plain": [
       "   user_id country  age gender  playcount  registered_unixtime\n",
       "0      384      UK   35      m      42139           1035849600\n",
       "1     1206     NaN   -1      n      33103           1035849600\n",
       "2     2622     NaN   -1    NaN       2030           1037404800\n",
       "3     2732     NaN   -1      n        147           1037577600\n",
       "4     3653      UK   31      m      18504           1041033600"
      ]
     },
     "execution_count": 11,
     "metadata": {},
     "output_type": "execute_result"
    }
   ],
   "source": [
    "user_df = pd.read_csv(user_file, sep='\\t')\n",
    "# print user data-frame\n",
    "user_df.head()"
   ]
  },
  {
   "cell_type": "code",
   "execution_count": 12,
   "metadata": {},
   "outputs": [],
   "source": [
    "# classify all users with nan as n/a, there is no provided gender information by the user and they therefore fall \n",
    "# under this class.\n",
    "user_df.loc[user_df.gender.isnull(), 'gender'] = 'n'"
   ]
  },
  {
   "cell_type": "code",
   "execution_count": 13,
   "metadata": {},
   "outputs": [],
   "source": [
    "# User gender distribution analysis\n",
    "def compute_user_gender_dist(df_u):\n",
    "    user_m = df_u[df_u.gender == 'm']\n",
    "    user_f = df_u[df_u.gender == 'f']\n",
    "    user_u = df_u[df_u.gender == 'n']\n",
    "    return user_m, user_f, user_u"
   ]
  },
  {
   "cell_type": "code",
   "execution_count": 14,
   "metadata": {},
   "outputs": [
    {
     "name": "stdout",
     "output_type": "stream",
     "text": [
      "User Gender Distribution in Matrix:\n",
      "m count: 39969, 33.21836405644853%\n",
      "f count: 15802, 13.133092867472282%\n",
      "u count: 64551, 53.648543076079186%\n"
     ]
    }
   ],
   "source": [
    "user_m, user_f, user_u = compute_user_gender_dist(user_df)\n",
    "user_m_count = len(user_m)\n",
    "user_f_count = len(user_f)\n",
    "user_undef_count = len(user_u)\n",
    "user_total_count = user_m_count + user_f_count + user_undef_count\n",
    "\n",
    "# Output user gender distribution\n",
    "print('User Gender Distribution in Matrix:')\n",
    "print('m count: {}, {}%'.format(user_m_count,user_m_count*100/user_total_count))\n",
    "print('f count: {}, {}%'.format(user_f_count,user_f_count*100/user_total_count))\n",
    "print('u count: {}, {}%'.format(user_undef_count,user_undef_count*100/user_total_count))"
   ]
  },
  {
   "cell_type": "code",
   "execution_count": 15,
   "metadata": {},
   "outputs": [
    {
     "data": {
      "image/png": "[encoded data removed]",
      "text/plain": [
       "<Figure size 720x720 with 1 Axes>"
      ]
     },
     "metadata": {},
     "output_type": "display_data"
    }
   ],
   "source": [
    "# Pie chart, where the slices will be ordered and plotted counter-clockwise:\n",
    "labels = 'Male', 'Female', 'Undef'\n",
    "sizes = [user_m_count, user_f_count, user_undef_count]\n",
    "\n",
    "fig1, ax1 = plt.subplots(figsize=(10, 10))\n",
    "\n",
    "explode = (0, 0.2, 0.4) \n",
    "colors = ['#ff9999','#66b3ff','#99ff99','#ffcc99']\n",
    "\n",
    "patches, texts, autotexts = ax1.pie(sizes, explode = explode, labels=labels, colors = colors, autopct='%1.1f%%',\n",
    "        shadow=True, startangle=40)\n",
    "\n",
    "plt.legend(patches, labels, loc=\"best\")\n",
    "\n",
    "ax1.axis('equal')  # Equal aspect ratio ensures that pie is drawn as a circle.\n",
    "\n",
    "for text in texts:\n",
    "    text.set_color('grey')\n",
    "for autotext in autotexts:\n",
    "    autotext.set_color('grey')\n",
    "\n",
    "plt.rcParams[\"figure.figsize\"] = (2,2)\n",
    "plt.title('LFM-1b Gender Distribution for Users')\n",
    "\n",
    "plt.show()"
   ]
  },
  {
   "cell_type": "markdown",
   "metadata": {},
   "source": [
    "## 4. Gender Analysis with the user artist matrix .mat file\n",
    "\n",
    "We now compute some stats for gender distribution with the user artist matrix provided in the LFM-1b dataset which will be used when generating user artist recommendations. "
   ]
  },
  {
   "cell_type": "code",
   "execution_count": 16,
   "metadata": {},
   "outputs": [],
   "source": [
    "# Read the user-artist-matrix and corresponding artist and user indices from Matlab file\n",
    "mf = h5py.File(UAM_MATLAB_FILE, 'r')\n",
    "user_ids = np.array(mf.get('idx_users')).astype(np.int64)\n",
    "artist_ids = np.array(mf.get('idx_artists')).astype(np.int64)\n",
    "\n",
    "# Load UAM\n",
    "UAM = sparse.csr_matrix((mf['/LEs/'][\"data\"],\n",
    "                            mf['/LEs/'][\"ir\"],\n",
    "                            mf['/LEs/'][\"jc\"])).transpose()  # .tocoo().transpose()\n",
    "\n",
    "# user and artist indices to access UAM\n",
    "UAM_user_idx = UAM.indices   # UAM.row -> for COO matrix\n",
    "UAM_artist_idx = UAM.indptr  # UAM.col -> for COO matrix, i.e. pass artist id 5, tells you which col to look in"
   ]
  },
  {
   "cell_type": "code",
   "execution_count": 17,
   "metadata": {},
   "outputs": [
    {
     "data": {
      "text/html": [
       "<div>\n",
       "<style scoped>\n",
       "    .dataframe tbody tr th:only-of-type {\n",
       "        vertical-align: middle;\n",
       "    }\n",
       "\n",
       "    .dataframe tbody tr th {\n",
       "        vertical-align: top;\n",
       "    }\n",
       "\n",
       "    .dataframe thead th {\n",
       "        text-align: right;\n",
       "    }\n",
       "</style>\n",
       "<table border=\"1\" class=\"dataframe\">\n",
       "  <thead>\n",
       "    <tr style=\"text-align: right;\">\n",
       "      <th></th>\n",
       "      <th>user_id</th>\n",
       "      <th>country</th>\n",
       "      <th>age</th>\n",
       "      <th>gender</th>\n",
       "      <th>playcount</th>\n",
       "      <th>registered_unixtime</th>\n",
       "    </tr>\n",
       "  </thead>\n",
       "  <tbody>\n",
       "    <tr>\n",
       "      <th>0</th>\n",
       "      <td>384</td>\n",
       "      <td>UK</td>\n",
       "      <td>35</td>\n",
       "      <td>m</td>\n",
       "      <td>42139</td>\n",
       "      <td>1035849600</td>\n",
       "    </tr>\n",
       "    <tr>\n",
       "      <th>1</th>\n",
       "      <td>1206</td>\n",
       "      <td>NaN</td>\n",
       "      <td>-1</td>\n",
       "      <td>n</td>\n",
       "      <td>33103</td>\n",
       "      <td>1035849600</td>\n",
       "    </tr>\n",
       "    <tr>\n",
       "      <th>2</th>\n",
       "      <td>2622</td>\n",
       "      <td>NaN</td>\n",
       "      <td>-1</td>\n",
       "      <td>n</td>\n",
       "      <td>2030</td>\n",
       "      <td>1037404800</td>\n",
       "    </tr>\n",
       "    <tr>\n",
       "      <th>3</th>\n",
       "      <td>2732</td>\n",
       "      <td>NaN</td>\n",
       "      <td>-1</td>\n",
       "      <td>n</td>\n",
       "      <td>147</td>\n",
       "      <td>1037577600</td>\n",
       "    </tr>\n",
       "    <tr>\n",
       "      <th>4</th>\n",
       "      <td>3653</td>\n",
       "      <td>UK</td>\n",
       "      <td>31</td>\n",
       "      <td>m</td>\n",
       "      <td>18504</td>\n",
       "      <td>1041033600</td>\n",
       "    </tr>\n",
       "  </tbody>\n",
       "</table>\n",
       "</div>"
      ],
      "text/plain": [
       "   user_id country  age gender  playcount  registered_unixtime\n",
       "0      384      UK   35      m      42139           1035849600\n",
       "1     1206     NaN   -1      n      33103           1035849600\n",
       "2     2622     NaN   -1      n       2030           1037404800\n",
       "3     2732     NaN   -1      n        147           1037577600\n",
       "4     3653      UK   31      m      18504           1041033600"
      ]
     },
     "execution_count": 17,
     "metadata": {},
     "output_type": "execute_result"
    }
   ],
   "source": [
    "user_ids_flat = user_ids.flatten()\n",
    "user_mat_df = user_df[user_df.user_id.isin(user_ids_flat)]\n",
    "# print user artist data frame\n",
    "user_mat_df.head()"
   ]
  },
  {
   "cell_type": "code",
   "execution_count": 19,
   "metadata": {},
   "outputs": [],
   "source": [
    "# convert all NaN gender to be N/A\n",
    "user_mat_df.loc[user_mat_df.gender.isnull(), 'gender'] = 'n'"
   ]
  },
  {
   "cell_type": "code",
   "execution_count": 20,
   "metadata": {},
   "outputs": [
    {
     "name": "stdout",
     "output_type": "stream",
     "text": [
      "User Gender Distribution in Matrix:\n",
      "m count: 39931, 33.22737674225088%\n",
      "f count: 15781, 13.131682962346577%\n",
      "u count: 64463, 53.64094029540254%\n"
     ]
    }
   ],
   "source": [
    "# Gender distribution analysis of users in the matrix.\n",
    "user_m, user_f, user_u = compute_user_gender_dist(user_mat_df)\n",
    "\n",
    "user_m_count = len(user_m)\n",
    "user_f_count = len(user_f)\n",
    "user_undef_count = len(user_u)\n",
    "user_total_count = user_m_count + user_f_count + user_undef_count\n",
    "\n",
    "# Output user gender distribution\n",
    "print('User Gender Distribution in Matrix:')\n",
    "print('m count: {}, {}%'.format(user_m_count,user_m_count*100/user_total_count))\n",
    "print('f count: {}, {}%'.format(user_f_count,user_f_count*100/user_total_count))\n",
    "print('u count: {}, {}%'.format(user_undef_count,user_undef_count*100/user_total_count))"
   ]
  },
  {
   "cell_type": "markdown",
   "metadata": {},
   "source": [
    "**Observations:**\n",
    "As state in the paper, there are minimal chages with respect to user gender distributions in the matrix. The real change will come when observing the change in artist gender distribution next. "
   ]
  },
  {
   "cell_type": "markdown",
   "metadata": {},
   "source": [
    "**Note**\n",
    "> For the purpose of this analysis we consider **na** and **other** artists to belong to the same class and thus, we perform a grouping operation here reducing our overall number of artist gender classes from 5 -> 4."
   ]
  },
  {
   "cell_type": "code",
   "execution_count": 21,
   "metadata": {},
   "outputs": [
    {
     "name": "stdout",
     "output_type": "stream",
     "text": [
      "Artist Gender Distribution in Matrix\n",
      "m count: 129754, 22.17656961689982%\n",
      "f count: 28480, 4.8675856057563305%\n",
      "u count: 426610, 72.91294576094481%\n",
      "o count: 251, 0.04289901639904631%\n"
     ]
    }
   ],
   "source": [
    "artist_ids_flat = artist_ids.flatten()\n",
    "artist_mat_df = artist_gender[artist_gender.id.isin(artist_ids_flat)]\n",
    "\n",
    "# merge N/A class to become other class\n",
    "artist_mat_df.loc[artist_mat_df['identified_gender'] == 4, 'identified_gender'] = 3\n",
    "\n",
    "artist_u, artist_m, artist_f, artist_o, artist_na = compute_artist_gender_dist(artist_mat_df)\n",
    "\n",
    "artist_m_count = len(artist_m)\n",
    "artist_f_count = len(artist_f)\n",
    "artist_undef_count = len(artist_u)\n",
    "artist_other_count = len(artist_o)\n",
    "artist_total_count = artist_m_count + artist_f_count + artist_undef_count + artist_other_count \n",
    "\n",
    "# Output artist gender distribution\n",
    "print('Artist Gender Distribution in Matrix')\n",
    "print('m count: {}, {}%'.format(artist_m_count,artist_m_count*100/artist_total_count))\n",
    "print('f count: {}, {}%'.format(artist_f_count,artist_f_count*100/artist_total_count))\n",
    "print('u count: {}, {}%'.format(artist_undef_count,artist_undef_count*100/artist_total_count))\n",
    "print('o count: {}, {}%'.format(artist_other_count,artist_other_count*100/artist_total_count))"
   ]
  },
  {
   "cell_type": "markdown",
   "metadata": {},
   "source": [
    "**Observations:** We can now see that we are able to identify around 27% of genders in the matrix. This is much better how may be subject to popularity bias (i.e. we are discarding artists with low lisening counts)."
   ]
  },
  {
   "cell_type": "markdown",
   "metadata": {},
   "source": [
    "## 5. LFM-1b-Le75 Gender Analysis: Users With Le history which consists of >= 75% of artists with known gender\n",
    "\n",
    "From this matrix we compute ```LFM-1b-Le75.csv```, a csv file containing all user artist listening events for users which have a listening history for which over 75% have known gender. The code for this computation is left out of this notebook as it is quite computationally time consuming."
   ]
  },
  {
   "cell_type": "code",
   "execution_count": 35,
   "metadata": {},
   "outputs": [
    {
     "data": {
      "text/html": [
       "<div>\n",
       "<style scoped>\n",
       "    .dataframe tbody tr th:only-of-type {\n",
       "        vertical-align: middle;\n",
       "    }\n",
       "\n",
       "    .dataframe tbody tr th {\n",
       "        vertical-align: top;\n",
       "    }\n",
       "\n",
       "    .dataframe thead th {\n",
       "        text-align: right;\n",
       "    }\n",
       "</style>\n",
       "<table border=\"1\" class=\"dataframe\">\n",
       "  <thead>\n",
       "    <tr style=\"text-align: right;\">\n",
       "      <th></th>\n",
       "      <th>user</th>\n",
       "      <th>artist</th>\n",
       "      <th>playcount</th>\n",
       "    </tr>\n",
       "  </thead>\n",
       "  <tbody>\n",
       "    <tr>\n",
       "      <th>0</th>\n",
       "      <td>384</td>\n",
       "      <td>18</td>\n",
       "      <td>3.0</td>\n",
       "    </tr>\n",
       "    <tr>\n",
       "      <th>1</th>\n",
       "      <td>384</td>\n",
       "      <td>30</td>\n",
       "      <td>153.0</td>\n",
       "    </tr>\n",
       "    <tr>\n",
       "      <th>2</th>\n",
       "      <td>384</td>\n",
       "      <td>43</td>\n",
       "      <td>7.0</td>\n",
       "    </tr>\n",
       "    <tr>\n",
       "      <th>3</th>\n",
       "      <td>384</td>\n",
       "      <td>47</td>\n",
       "      <td>518.0</td>\n",
       "    </tr>\n",
       "    <tr>\n",
       "      <th>4</th>\n",
       "      <td>384</td>\n",
       "      <td>48</td>\n",
       "      <td>5.0</td>\n",
       "    </tr>\n",
       "  </tbody>\n",
       "</table>\n",
       "</div>"
      ],
      "text/plain": [
       "   user  artist  playcount\n",
       "0   384      18        3.0\n",
       "1   384      30      153.0\n",
       "2   384      43        7.0\n",
       "3   384      47      518.0\n",
       "4   384      48        5.0"
      ]
     },
     "execution_count": 35,
     "metadata": {},
     "output_type": "execute_result"
    }
   ],
   "source": [
    "# read user events (with over 75% gender) into df\n",
    "cols = ['user', 'artist', 'playcount']\n",
    "df_events = pd.read_csv(lfm1b_le75_path, names=cols)\n",
    "df_events.head()"
   ]
  },
  {
   "cell_type": "code",
   "execution_count": 36,
   "metadata": {},
   "outputs": [
    {
     "name": "stdout",
     "output_type": "stream",
     "text": [
      "max play count: 247612.0\n",
      "min play count: 1.0\n",
      "average play count 17.962217076773506\n",
      "std play count 120.80715157388336\n"
     ]
    }
   ],
   "source": [
    "print('max play count:', df_events.playcount.max())\n",
    "print('min play count:', df_events.playcount.min())\n",
    "print('average play count', df_events.playcount.mean())\n",
    "print('std play count', df_events.playcount.std())"
   ]
  },
  {
   "cell_type": "code",
   "execution_count": 24,
   "metadata": {},
   "outputs": [
    {
     "name": "stdout",
     "output_type": "stream",
     "text": [
      "total user-artist interactions: 48323180\n",
      "number of artists > 100: 9.312301053035003e-06\n"
     ]
    }
   ],
   "source": [
    "print('total user-artist interactions:', len(df_events))\n",
    "print('number of artists > 100:', len(df_events[df_events.playcount > 10000]) /  len(df_events))"
   ]
  },
  {
   "cell_type": "markdown",
   "metadata": {},
   "source": [
    "We observe that there a very small number of users which have a high number of listening events > 10000. To compute what may define a recommendation as relevent (i.e. what play count can be considered as a relevent recommendation in evaluations) we first remove outliers in the data by computing the IQR."
   ]
  },
  {
   "cell_type": "code",
   "execution_count": 25,
   "metadata": {},
   "outputs": [
    {
     "data": {
      "text/html": [
       "<div>\n",
       "<style scoped>\n",
       "    .dataframe tbody tr th:only-of-type {\n",
       "        vertical-align: middle;\n",
       "    }\n",
       "\n",
       "    .dataframe tbody tr th {\n",
       "        vertical-align: top;\n",
       "    }\n",
       "\n",
       "    .dataframe thead th {\n",
       "        text-align: right;\n",
       "    }\n",
       "</style>\n",
       "<table border=\"1\" class=\"dataframe\">\n",
       "  <thead>\n",
       "    <tr style=\"text-align: right;\">\n",
       "      <th></th>\n",
       "      <th>user</th>\n",
       "      <th>artist</th>\n",
       "      <th>playcount</th>\n",
       "    </tr>\n",
       "  </thead>\n",
       "  <tbody>\n",
       "    <tr>\n",
       "      <th>34852999</th>\n",
       "      <td>34995303</td>\n",
       "      <td>105</td>\n",
       "      <td>247612.0</td>\n",
       "    </tr>\n",
       "    <tr>\n",
       "      <th>16559032</th>\n",
       "      <td>9945174</td>\n",
       "      <td>2821</td>\n",
       "      <td>176993.0</td>\n",
       "    </tr>\n",
       "    <tr>\n",
       "      <th>21412572</th>\n",
       "      <td>14147992</td>\n",
       "      <td>8187</td>\n",
       "      <td>164685.0</td>\n",
       "    </tr>\n",
       "    <tr>\n",
       "      <th>8788388</th>\n",
       "      <td>5519723</td>\n",
       "      <td>3445</td>\n",
       "      <td>144035.0</td>\n",
       "    </tr>\n",
       "    <tr>\n",
       "      <th>29897084</th>\n",
       "      <td>26613726</td>\n",
       "      <td>691</td>\n",
       "      <td>120947.0</td>\n",
       "    </tr>\n",
       "    <tr>\n",
       "      <th>...</th>\n",
       "      <td>...</td>\n",
       "      <td>...</td>\n",
       "      <td>...</td>\n",
       "    </tr>\n",
       "    <tr>\n",
       "      <th>16163463</th>\n",
       "      <td>9690768</td>\n",
       "      <td>164540</td>\n",
       "      <td>1.0</td>\n",
       "    </tr>\n",
       "    <tr>\n",
       "      <th>32675783</th>\n",
       "      <td>31503402</td>\n",
       "      <td>65678</td>\n",
       "      <td>1.0</td>\n",
       "    </tr>\n",
       "    <tr>\n",
       "      <th>32675782</th>\n",
       "      <td>31503402</td>\n",
       "      <td>65668</td>\n",
       "      <td>1.0</td>\n",
       "    </tr>\n",
       "    <tr>\n",
       "      <th>16163464</th>\n",
       "      <td>9690768</td>\n",
       "      <td>164543</td>\n",
       "      <td>1.0</td>\n",
       "    </tr>\n",
       "    <tr>\n",
       "      <th>3172004</th>\n",
       "      <td>2998915</td>\n",
       "      <td>98870</td>\n",
       "      <td>1.0</td>\n",
       "    </tr>\n",
       "  </tbody>\n",
       "</table>\n",
       "<p>48323180 rows × 3 columns</p>\n",
       "</div>"
      ],
      "text/plain": [
       "              user  artist  playcount\n",
       "34852999  34995303     105   247612.0\n",
       "16559032   9945174    2821   176993.0\n",
       "21412572  14147992    8187   164685.0\n",
       "8788388    5519723    3445   144035.0\n",
       "29897084  26613726     691   120947.0\n",
       "...            ...     ...        ...\n",
       "16163463   9690768  164540        1.0\n",
       "32675783  31503402   65678        1.0\n",
       "32675782  31503402   65668        1.0\n",
       "16163464   9690768  164543        1.0\n",
       "3172004    2998915   98870        1.0\n",
       "\n",
       "[48323180 rows x 3 columns]"
      ]
     },
     "execution_count": 25,
     "metadata": {},
     "output_type": "execute_result"
    }
   ],
   "source": [
    "df_events_ordered = df_events.sort_values(by=['playcount'], ascending=False)\n",
    "df_events_ordered "
   ]
  },
  {
   "cell_type": "code",
   "execution_count": 26,
   "metadata": {},
   "outputs": [
    {
     "name": "stdout",
     "output_type": "stream",
     "text": [
      "Quartile 1 playcounts: 1.0\n",
      "Quartile 2 playcounts: 9.0\n",
      "IQR playcounts: 8.0\n"
     ]
    }
   ],
   "source": [
    "Q1 = df_events.playcount.quantile(0.25)\n",
    "Q3 = df_events.playcount.quantile(0.75)\n",
    "IQR = Q3 - Q1\n",
    "print('Quartile 1 playcounts:', Q1)\n",
    "print('Quartile 2 playcounts:', Q3)\n",
    "print('IQR playcounts:', IQR)"
   ]
  },
  {
   "cell_type": "code",
   "execution_count": null,
   "metadata": {},
   "outputs": [],
   "source": [
    "filter_outliers = df_events[((df_events.playcount < (Q1 - 1.5 * IQR)) == False) & ((df_events.playcount > (Q3 + 1.5 * IQR)) == False)]"
   ]
  },
  {
   "cell_type": "code",
   "execution_count": 28,
   "metadata": {},
   "outputs": [
    {
     "name": "stdout",
     "output_type": "stream",
     "text": [
      "before filtering df length: 48323180\n",
      "after filtering df length: 41751302\n"
     ]
    }
   ],
   "source": [
    "print('before filtering df length:', len(df_events))\n",
    "print('after filtering df length:', len(filter_outliers))"
   ]
  },
  {
   "cell_type": "code",
   "execution_count": 29,
   "metadata": {},
   "outputs": [
    {
     "name": "stdout",
     "output_type": "stream",
     "text": [
      "max play count: 21.0\n",
      "min play count: 1.0\n",
      "average play count 3.9231675697203405\n",
      "std play count 4.462467186803458\n"
     ]
    }
   ],
   "source": [
    "print('max play count:', filter_outliers.playcount.max())\n",
    "print('min play count:', filter_outliers.playcount.min())\n",
    "print('average play count', filter_outliers.playcount.mean())\n",
    "print('std play count', filter_outliers.playcount.std())"
   ]
  },
  {
   "cell_type": "markdown",
   "metadata": {},
   "source": [
    "We now see that the average playcount drops dramatically to aproximately 4. Hence, we consider playcounts >= 4 as the relevent when evaluating filtering methodologies. "
   ]
  },
  {
   "cell_type": "code",
   "execution_count": 30,
   "metadata": {},
   "outputs": [
    {
     "data": {
      "text/plain": [
       "70.005577562293"
      ]
     },
     "execution_count": 30,
     "metadata": {},
     "output_type": "execute_result"
    }
   ],
   "source": [
    "import math\n",
    "# we will use a logarthmic scale of listening counts to symbolise that listening events >= 70 will be 'relevent' \n",
    "math.log(4,1.02)"
   ]
  },
  {
   "cell_type": "markdown",
   "metadata": {},
   "source": [
    "### User gender distribution analysis"
   ]
  },
  {
   "cell_type": "code",
   "execution_count": 37,
   "metadata": {},
   "outputs": [
    {
     "name": "stdout",
     "output_type": "stream",
     "text": [
      "User Gender Distribution in LFM-1b-Le75 Matrix:\n",
      "m count: 31443, 39.462586912322095%\n",
      "f count: 11520, 14.458194231782926%\n",
      "u count: 36715, 46.07921885589498%\n"
     ]
    }
   ],
   "source": [
    "# Gender distribution analysis of users in the le75 matrix.\n",
    "user_ids_knownlh = df_events['user'].unique()  #get all unique user ids from LFM-1b-Le75\n",
    "user_mat_le75_df = user_mat_df[user_mat_df.user_id.isin(user_ids_knownlh)]\n",
    "user_m, user_f, user_u = compute_user_gender_dist(user_mat_le75_df)\n",
    "\n",
    "user_m_count = len(user_m)\n",
    "user_f_count = len(user_f)\n",
    "user_undef_count = len(user_u)\n",
    "user_total_count = user_m_count + user_f_count + user_undef_count\n",
    "\n",
    "print('User Gender Distribution in LFM-1b-Le75 Matrix:')\n",
    "print('m count: {}, {}%'.format(user_m_count,user_m_count*100/user_total_count))\n",
    "print('f count: {}, {}%'.format(user_f_count,user_f_count*100/user_total_count))\n",
    "print('u count: {}, {}%'.format(user_undef_count,user_undef_count*100/user_total_count))"
   ]
  },
  {
   "cell_type": "markdown",
   "metadata": {},
   "source": [
    "### Artist gender distribution analysis"
   ]
  },
  {
   "cell_type": "code",
   "execution_count": 38,
   "metadata": {},
   "outputs": [
    {
     "name": "stdout",
     "output_type": "stream",
     "text": [
      "Artist Gender Distribution in Matrix\n",
      "m count: 129712, 22.175076289223774%\n",
      "f count: 28465, 4.866269478327022%\n",
      "u count: 426517, 72.9157442152681%\n",
      "o count: 251, 0.042910017181102496%\n"
     ]
    }
   ],
   "source": [
    "# Gender distribution anlaysis of artists in the le75 matrix\n",
    "artist_ids_flat = df_events['artist'].unique()\n",
    "artist_mat_le75_df = artist_gender[artist_gender.id.isin(artist_ids_flat)]\n",
    "\n",
    "# merge na class to become other class\n",
    "artist_mat_le75_df.loc[artist_mat_le75_df['identified_gender'] == 4, 'identified_gender'] = 3\n",
    "\n",
    "artist_u, artist_m, artist_f, artist_o, artist_na = compute_artist_gender_dist(artist_mat_le75_df)\n",
    "\n",
    "artist_m_count = len(artist_m)\n",
    "artist_f_count = len(artist_f)\n",
    "artist_undef_count = len(artist_u)\n",
    "artist_other_count = len(artist_o)\n",
    "artist_total_count = artist_m_count + artist_f_count + artist_undef_count + artist_other_count \n",
    "\n",
    "# Output artist gender distribution\n",
    "print('Artist Gender Distribution in Matrix')\n",
    "print('m count: {}, {}%'.format(artist_m_count,artist_m_count*100/artist_total_count))\n",
    "print('f count: {}, {}%'.format(artist_f_count,artist_f_count*100/artist_total_count))\n",
    "print('u count: {}, {}%'.format(artist_undef_count,artist_undef_count*100/artist_total_count))\n",
    "print('o count: {}, {}%'.format(artist_other_count,artist_other_count*100/artist_total_count))"
   ]
  },
  {
   "cell_type": "markdown",
   "metadata": {},
   "source": [
    "### Recover Listening Events via manual annotation of undef artists...\n",
    "We are able to recover over 30 million listening events via manual annotation of the top 100 undef artists based on listening counts. These are then updated in the artist_mat dataframe before running CF recommendations."
   ]
  },
  {
   "cell_type": "code",
   "execution_count": 39,
   "metadata": {},
   "outputs": [
    {
     "data": {
      "text/html": [
       "<div>\n",
       "<style scoped>\n",
       "    .dataframe tbody tr th:only-of-type {\n",
       "        vertical-align: middle;\n",
       "    }\n",
       "\n",
       "    .dataframe tbody tr th {\n",
       "        vertical-align: top;\n",
       "    }\n",
       "\n",
       "    .dataframe thead th {\n",
       "        text-align: right;\n",
       "    }\n",
       "</style>\n",
       "<table border=\"1\" class=\"dataframe\">\n",
       "  <thead>\n",
       "    <tr style=\"text-align: right;\">\n",
       "      <th></th>\n",
       "      <th>id</th>\n",
       "      <th>artist</th>\n",
       "      <th>gender_dist</th>\n",
       "      <th>identified_gender</th>\n",
       "    </tr>\n",
       "  </thead>\n",
       "  <tbody>\n",
       "    <tr>\n",
       "      <th>134</th>\n",
       "      <td>135</td>\n",
       "      <td>Nirvana</td>\n",
       "      <td>[0, 3, 0, 0, 0]</td>\n",
       "      <td>1</td>\n",
       "    </tr>\n",
       "  </tbody>\n",
       "</table>\n",
       "</div>"
      ],
      "text/plain": [
       "      id   artist      gender_dist  identified_gender\n",
       "134  135  Nirvana  [0, 3, 0, 0, 0]                  1"
      ]
     },
     "execution_count": 39,
     "metadata": {},
     "output_type": "execute_result"
    }
   ],
   "source": [
    "import ast\n",
    "\n",
    "top100_undef_artists = 'baseline-data/top500undef_lp.csv' #todo change path\n",
    "top100undef_artist_df = pd.read_csv(top100_undef_artists, sep=',')\n",
    "undef_gender_dist_list = top100undef_artist_df['gender_dist'].map(ast.literal_eval)\n",
    "\n",
    "top100undef_artist_df = top100undef_artist_df.assign(gender_dist = undef_gender_dist_list)\n",
    "\n",
    "# classify gender\n",
    "top100undef_majority_gender = undef_gender_dist_list.map(classify_gender_majority)\n",
    "# reasign the data frame\n",
    "top100undef_artist_df = top100undef_artist_df.assign(identified_gender = top100undef_majority_gender)\n",
    "\n",
    "top100user_list = list(top100undef_artist_df['artist'])\n",
    "top100user_gender_list = list(top100undef_artist_df['identified_gender'])\n",
    "top100user_genderdist_list = list(top100undef_artist_df['gender_dist'])\n",
    "\n",
    "# 135 as test id\n",
    "for u, g, g_dist in zip(top100user_list, top100user_gender_list, top100user_genderdist_list):\n",
    "    artist_mat_le75_df.loc[(artist_mat_le75_df.id == u),'identified_gender'] = g\n",
    "    artist_mat_le75_df.loc[(artist_mat_le75_df.id == u),'gender_dist'] = str(g_dist)\n",
    "\n",
    "# print Nivarna as an example to test we have correctly updated the df    \n",
    "artist_mat_le75_df[artist_mat_le75_df.id == 135]"
   ]
  },
  {
   "cell_type": "code",
   "execution_count": 40,
   "metadata": {},
   "outputs": [
    {
     "name": "stdout",
     "output_type": "stream",
     "text": [
      "Artist Gender Distribution in Matrix\n",
      "m count: 129796, 22.189436613698724%\n",
      "f count: 28473, 4.867637128277018%\n",
      "u count: 426425, 72.90001624084316%\n",
      "o count: 251, 0.042910017181102496%\n"
     ]
    }
   ],
   "source": [
    "# Analyse our gender dists after updating the manual annotations in the df\n",
    "artist_ids_flat = df_events['artist'].unique()\n",
    "\n",
    "# Gender distribution analysis\n",
    "artist_u, artist_m, artist_f, artist_o, artist_na = compute_artist_gender_dist(artist_mat_le75_df)\n",
    "\n",
    "artist_m_count = len(artist_m)\n",
    "artist_f_count = len(artist_f)\n",
    "artist_undef_count = len(artist_u)\n",
    "artist_other_count = len(artist_o)\n",
    "artist_total_count = artist_m_count + artist_f_count + artist_undef_count + artist_other_count \n",
    "\n",
    "# Output artist gender distribution\n",
    "print('Artist Gender Distribution in Matrix')\n",
    "print('m count: {}, {}%'.format(artist_m_count,artist_m_count*100/artist_total_count))\n",
    "print('f count: {}, {}%'.format(artist_f_count,artist_f_count*100/artist_total_count))\n",
    "print('u count: {}, {}%'.format(artist_undef_count,artist_undef_count*100/artist_total_count))\n",
    "print('o count: {}, {}%'.format(artist_other_count,artist_other_count*100/artist_total_count))"
   ]
  },
  {
   "cell_type": "code",
   "execution_count": 41,
   "metadata": {},
   "outputs": [],
   "source": [
    "# filter to just contain user of m and f gender and artists of m and f gender\n",
    "m_user_ids_sample = user_m['user_id'].values\n",
    "f_user_ids_sample = user_f['user_id'].values\n",
    "users_mf = [y for x in [m_user_ids_sample, f_user_ids_sample] for y in x] #male and female users\n",
    "\n",
    "male_artist_ids = artist_m['id'].unique()\n",
    "female_artist_ids = artist_f['id'].unique()\n",
    "artist_sample = [y for x in [male_artist_ids, female_artist_ids] for y in x]\n",
    "\n",
    "final_le_df = df_events[(df_events.user.isin(users_mf) & (df_events.artist.isin(artist_sample)))]"
   ]
  },
  {
   "cell_type": "code",
   "execution_count": 57,
   "metadata": {},
   "outputs": [
    {
     "data": {
      "text/html": [
       "<div>\n",
       "<style scoped>\n",
       "    .dataframe tbody tr th:only-of-type {\n",
       "        vertical-align: middle;\n",
       "    }\n",
       "\n",
       "    .dataframe tbody tr th {\n",
       "        vertical-align: top;\n",
       "    }\n",
       "\n",
       "    .dataframe thead th {\n",
       "        text-align: right;\n",
       "    }\n",
       "</style>\n",
       "<table border=\"1\" class=\"dataframe\">\n",
       "  <thead>\n",
       "    <tr style=\"text-align: right;\">\n",
       "      <th></th>\n",
       "      <th>user_id</th>\n",
       "      <th>country</th>\n",
       "      <th>age</th>\n",
       "      <th>gender</th>\n",
       "      <th>playcount</th>\n",
       "      <th>registered_unixtime</th>\n",
       "    </tr>\n",
       "  </thead>\n",
       "  <tbody>\n",
       "    <tr>\n",
       "      <th>0</th>\n",
       "      <td>384</td>\n",
       "      <td>UK</td>\n",
       "      <td>35</td>\n",
       "      <td>m</td>\n",
       "      <td>42139</td>\n",
       "      <td>1035849600</td>\n",
       "    </tr>\n",
       "    <tr>\n",
       "      <th>1</th>\n",
       "      <td>1206</td>\n",
       "      <td>NaN</td>\n",
       "      <td>-1</td>\n",
       "      <td>n</td>\n",
       "      <td>33103</td>\n",
       "      <td>1035849600</td>\n",
       "    </tr>\n",
       "    <tr>\n",
       "      <th>2</th>\n",
       "      <td>2622</td>\n",
       "      <td>NaN</td>\n",
       "      <td>-1</td>\n",
       "      <td>n</td>\n",
       "      <td>2030</td>\n",
       "      <td>1037404800</td>\n",
       "    </tr>\n",
       "    <tr>\n",
       "      <th>3</th>\n",
       "      <td>2732</td>\n",
       "      <td>NaN</td>\n",
       "      <td>-1</td>\n",
       "      <td>n</td>\n",
       "      <td>147</td>\n",
       "      <td>1037577600</td>\n",
       "    </tr>\n",
       "    <tr>\n",
       "      <th>4</th>\n",
       "      <td>3653</td>\n",
       "      <td>UK</td>\n",
       "      <td>31</td>\n",
       "      <td>m</td>\n",
       "      <td>18504</td>\n",
       "      <td>1041033600</td>\n",
       "    </tr>\n",
       "    <tr>\n",
       "      <th>...</th>\n",
       "      <td>...</td>\n",
       "      <td>...</td>\n",
       "      <td>...</td>\n",
       "      <td>...</td>\n",
       "      <td>...</td>\n",
       "      <td>...</td>\n",
       "    </tr>\n",
       "    <tr>\n",
       "      <th>120314</th>\n",
       "      <td>50761770</td>\n",
       "      <td>NaN</td>\n",
       "      <td>-1</td>\n",
       "      <td>n</td>\n",
       "      <td>1488</td>\n",
       "      <td>1342166978</td>\n",
       "    </tr>\n",
       "    <tr>\n",
       "      <th>120317</th>\n",
       "      <td>50871714</td>\n",
       "      <td>BY</td>\n",
       "      <td>19</td>\n",
       "      <td>f</td>\n",
       "      <td>569</td>\n",
       "      <td>1342728447</td>\n",
       "    </tr>\n",
       "    <tr>\n",
       "      <th>120318</th>\n",
       "      <td>50900118</td>\n",
       "      <td>RU</td>\n",
       "      <td>19</td>\n",
       "      <td>m</td>\n",
       "      <td>96</td>\n",
       "      <td>1342887305</td>\n",
       "    </tr>\n",
       "    <tr>\n",
       "      <th>120320</th>\n",
       "      <td>50933471</td>\n",
       "      <td>NaN</td>\n",
       "      <td>-1</td>\n",
       "      <td>n</td>\n",
       "      <td>49</td>\n",
       "      <td>1343071062</td>\n",
       "    </tr>\n",
       "    <tr>\n",
       "      <th>120321</th>\n",
       "      <td>50967444</td>\n",
       "      <td>NaN</td>\n",
       "      <td>16</td>\n",
       "      <td>n</td>\n",
       "      <td>262</td>\n",
       "      <td>1343250546</td>\n",
       "    </tr>\n",
       "  </tbody>\n",
       "</table>\n",
       "<p>79678 rows × 6 columns</p>\n",
       "</div>"
      ],
      "text/plain": [
       "         user_id country  age gender  playcount  registered_unixtime\n",
       "0            384      UK   35      m      42139           1035849600\n",
       "1           1206     NaN   -1      n      33103           1035849600\n",
       "2           2622     NaN   -1      n       2030           1037404800\n",
       "3           2732     NaN   -1      n        147           1037577600\n",
       "4           3653      UK   31      m      18504           1041033600\n",
       "...          ...     ...  ...    ...        ...                  ...\n",
       "120314  50761770     NaN   -1      n       1488           1342166978\n",
       "120317  50871714      BY   19      f        569           1342728447\n",
       "120318  50900118      RU   19      m         96           1342887305\n",
       "120320  50933471     NaN   -1      n         49           1343071062\n",
       "120321  50967444     NaN   16      n        262           1343250546\n",
       "\n",
       "[79678 rows x 6 columns]"
      ]
     },
     "execution_count": 57,
     "metadata": {},
     "output_type": "execute_result"
    }
   ],
   "source": [
    "user_mat_le75_df"
   ]
  },
  {
   "cell_type": "code",
   "execution_count": 59,
   "metadata": {},
   "outputs": [],
   "source": [
    "# Analyse our gender dists after updating the manual annotations in the df\n",
    "artist_mat_le75_df_update = artist_mat_le75_df[artist_mat_le75_df.id.isin(final_le_df.artist.unique())]\n",
    "user_mat_le75_df_update = user_mat_le75_df[user_mat_le75_df.user_id.isin(final_le_df.user.unique())]\n",
    "\n",
    "# Gender distribution analysis\n",
    "artist_u, artist_m, artist_f, artist_o, artist_na = compute_artist_gender_dist(artist_mat_le75_df_update)\n",
    "user_m, user_f, user_u = compute_user_gender_dist(user_mat_le75_df_update)"
   ]
  },
  {
   "cell_type": "code",
   "execution_count": 60,
   "metadata": {},
   "outputs": [
    {
     "data": {
      "text/html": [
       "<div>\n",
       "<style scoped>\n",
       "    .dataframe tbody tr th:only-of-type {\n",
       "        vertical-align: middle;\n",
       "    }\n",
       "\n",
       "    .dataframe tbody tr th {\n",
       "        vertical-align: top;\n",
       "    }\n",
       "\n",
       "    .dataframe thead th {\n",
       "        text-align: right;\n",
       "    }\n",
       "</style>\n",
       "<table border=\"1\" class=\"dataframe\">\n",
       "  <thead>\n",
       "    <tr style=\"text-align: right;\">\n",
       "      <th></th>\n",
       "      <th>user</th>\n",
       "      <th>artist</th>\n",
       "      <th>playcount</th>\n",
       "    </tr>\n",
       "  </thead>\n",
       "  <tbody>\n",
       "    <tr>\n",
       "      <th>0</th>\n",
       "      <td>384</td>\n",
       "      <td>18</td>\n",
       "      <td>3.0</td>\n",
       "    </tr>\n",
       "    <tr>\n",
       "      <th>1</th>\n",
       "      <td>384</td>\n",
       "      <td>30</td>\n",
       "      <td>153.0</td>\n",
       "    </tr>\n",
       "    <tr>\n",
       "      <th>2</th>\n",
       "      <td>384</td>\n",
       "      <td>43</td>\n",
       "      <td>7.0</td>\n",
       "    </tr>\n",
       "    <tr>\n",
       "      <th>3</th>\n",
       "      <td>384</td>\n",
       "      <td>47</td>\n",
       "      <td>518.0</td>\n",
       "    </tr>\n",
       "    <tr>\n",
       "      <th>4</th>\n",
       "      <td>384</td>\n",
       "      <td>48</td>\n",
       "      <td>5.0</td>\n",
       "    </tr>\n",
       "    <tr>\n",
       "      <th>...</th>\n",
       "      <td>...</td>\n",
       "      <td>...</td>\n",
       "      <td>...</td>\n",
       "    </tr>\n",
       "    <tr>\n",
       "      <th>48322001</th>\n",
       "      <td>50900118</td>\n",
       "      <td>463225</td>\n",
       "      <td>12.0</td>\n",
       "    </tr>\n",
       "    <tr>\n",
       "      <th>48322004</th>\n",
       "      <td>50900118</td>\n",
       "      <td>506155</td>\n",
       "      <td>5.0</td>\n",
       "    </tr>\n",
       "    <tr>\n",
       "      <th>48322018</th>\n",
       "      <td>50900118</td>\n",
       "      <td>884070</td>\n",
       "      <td>2.0</td>\n",
       "    </tr>\n",
       "    <tr>\n",
       "      <th>48322019</th>\n",
       "      <td>50900118</td>\n",
       "      <td>896802</td>\n",
       "      <td>1.0</td>\n",
       "    </tr>\n",
       "    <tr>\n",
       "      <th>48322045</th>\n",
       "      <td>50900118</td>\n",
       "      <td>2872446</td>\n",
       "      <td>16.0</td>\n",
       "    </tr>\n",
       "  </tbody>\n",
       "</table>\n",
       "<p>20210529 rows × 3 columns</p>\n",
       "</div>"
      ],
      "text/plain": [
       "              user   artist  playcount\n",
       "0              384       18        3.0\n",
       "1              384       30      153.0\n",
       "2              384       43        7.0\n",
       "3              384       47      518.0\n",
       "4              384       48        5.0\n",
       "...            ...      ...        ...\n",
       "48322001  50900118   463225       12.0\n",
       "48322004  50900118   506155        5.0\n",
       "48322018  50900118   884070        2.0\n",
       "48322019  50900118   896802        1.0\n",
       "48322045  50900118  2872446       16.0\n",
       "\n",
       "[20210529 rows x 3 columns]"
      ]
     },
     "execution_count": 60,
     "metadata": {},
     "output_type": "execute_result"
    }
   ],
   "source": [
    "final_le_df"
   ]
  },
  {
   "cell_type": "code",
   "execution_count": 72,
   "metadata": {},
   "outputs": [],
   "source": [
    "f_pref = []\n",
    "for u_m in user_m.user_id.unique():\n",
    "    df = final_le_df[final_le_df.user == u_m]\n",
    "    item_len = len(df)\n",
    "    f_items = df[df.artist.isin(list(artist_f.id))]\n",
    "    f_pref.append(len(f_items) / item_len)"
   ]
  },
  {
   "cell_type": "code",
   "execution_count": 75,
   "metadata": {},
   "outputs": [],
   "source": [
    "m_pref = []\n",
    "for u_m in user_m.user_id.unique():\n",
    "    df = final_le_df[final_le_df.user == u_m]\n",
    "    item_len = len(df)\n",
    "    m_items = df[df.artist.isin(list(artist_m.id))]\n",
    "    m_pref.append(len(m_items) / item_len)"
   ]
  },
  {
   "cell_type": "code",
   "execution_count": 106,
   "metadata": {},
   "outputs": [],
   "source": [
    "f_pref_femaleuser = []\n",
    "for u_f in user_f.user_id.unique():\n",
    "    df = final_le_df[final_le_df.user == u_f]\n",
    "    item_len = len(df)\n",
    "    f_items = df[df.artist.isin(list(artist_f.id))]\n",
    "    f_pref_femaleuser.append(len(f_items) / item_len)"
   ]
  },
  {
   "cell_type": "code",
   "execution_count": 107,
   "metadata": {},
   "outputs": [],
   "source": [
    "m_pref_femaleuser = []\n",
    "for u_f in user_f.user_id.unique():\n",
    "    df = final_le_df[final_le_df.user == u_f]\n",
    "    item_len = len(df)\n",
    "    m_items = df[df.artist.isin(list(artist_m.id))]\n",
    "    m_pref_femaleuser.append(len(m_items) / item_len)"
   ]
  },
  {
   "cell_type": "code",
   "execution_count": 105,
   "metadata": {},
   "outputs": [
    {
     "data": {
      "image/png": "[encoded data removed]",
      "text/plain": [
       "<Figure size 720x360 with 1 Axes>"
      ]
     },
     "metadata": {
      "needs_background": "light"
     },
     "output_type": "display_data"
    }
   ],
   "source": [
    "%matplotlib inline\n",
    "plt.rcParams[\"figure.figsize\"] = [10, 5]\n",
    "\n",
    "plt.figure()\n",
    "plt.title('Male user preference ratio distribution')\n",
    "plt.xlabel('Male users')\n",
    "plt.ylabel('Pref ratio')\n",
    "\n",
    "plt.axhline(y=0.8, color='black', linestyle='--', label='0.8 - high pref ratio')\n",
    "plt.plot(sorted(f_pref), label='Female pref ratio')\n",
    "plt.plot(sorted(m_pref), label='Male pref ratio')\n",
    "plt.legend(loc=(0.8,0.02))\n",
    "plt.grid(linestyle=':', linewidth='0.5', color='black')"
   ]
  },
  {
   "cell_type": "code",
   "execution_count": 108,
   "metadata": {},
   "outputs": [
    {
     "data": {
      "image/png": "[encoded data removed]",
      "text/plain": [
       "<Figure size 720x360 with 1 Axes>"
      ]
     },
     "metadata": {
      "needs_background": "light"
     },
     "output_type": "display_data"
    }
   ],
   "source": [
    "%matplotlib inline\n",
    "plt.rcParams[\"figure.figsize\"] = [10, 5]\n",
    "\n",
    "plt.figure()\n",
    "plt.title('Female user preference ratio distribution')\n",
    "plt.xlabel('Female users')\n",
    "plt.ylabel('Pref ratio')\n",
    "\n",
    "plt.axhline(y=0.8, color='black', linestyle='--', label='0.8 - high pref ratio')\n",
    "plt.plot(sorted(f_pref_femaleuser), label='Female pref ratio')\n",
    "plt.plot(sorted(m_pref_femaleuser), label='Male pref ratio')\n",
    "plt.legend(loc=(0.8,0.02))\n",
    "plt.grid(linestyle=':', linewidth='0.5', color='black')"
   ]
  },
  {
   "cell_type": "code",
   "execution_count": 35,
   "metadata": {},
   "outputs": [
    {
     "name": "stdout",
     "output_type": "stream",
     "text": [
      "Dimentionality of final matrix: 42961 - 156877\n"
     ]
    }
   ],
   "source": [
    "user_dimension = len(final_le_df.user.unique())\n",
    "artist_dimension = len(final_le_df.artist.unique())\n",
    "print('Dimentionality of final matrix: {} - {}'.format(user_dimension, artist_dimension) )"
   ]
  },
  {
   "cell_type": "markdown",
   "metadata": {},
   "source": [
    "### Write both user and artist dfs to csv files"
   ]
  },
  {
   "cell_type": "code",
   "execution_count": 36,
   "metadata": {},
   "outputs": [],
   "source": [
    "final_le_df.to_csv(lfm1b_le75_filtered_mf_path, index = False)"
   ]
  },
  {
   "cell_type": "code",
   "execution_count": 29,
   "metadata": {},
   "outputs": [],
   "source": [
    "# write our updated user and artist matrix to csv files to be used in subsequent experiments\n",
    "artist_mat_le75_df.to_csv(lfm1b_le75_artists_path, index = False)\n",
    "user_mat_le75_df.to_csv(lfm1b_le75_users_path, index = False)"
   ]
  },
  {
   "cell_type": "markdown",
   "metadata": {},
   "source": [
    "### Analysis of of gender distributions in the longtail"
   ]
  },
  {
   "cell_type": "code",
   "execution_count": 37,
   "metadata": {},
   "outputs": [],
   "source": [
    "# Compute artists which are in the longtail\n",
    "artist_unique_users = final_le_df['artist'].value_counts()\n",
    "artist_playcounts = final_le_df[['artist','playcount']].groupby(['artist']).mean()\n",
    "combined_df = pd.concat([artist_unique_users , artist_playcounts], axis=1)\n",
    "    \n",
    "combined_df.columns = ['user_count', 'avg_playcount']\n",
    "combined_df['popularity'] = combined_df['user_count']*combined_df['avg_playcount']\n",
    "combined_df = combined_df.sort_values(by=['popularity'])\n",
    "artists = combined_df.index.values.tolist()\n",
    "slice_i = int(len(artists) * 0.8) #consider 80% as the longtail\n",
    "lt_artists = artists[:slice_i]\n",
    "th_artists = artists[slice_i:]"
   ]
  },
  {
   "cell_type": "code",
   "execution_count": 38,
   "metadata": {},
   "outputs": [
    {
     "name": "stdout",
     "output_type": "stream",
     "text": [
      "male top head artists 26252 / 83.66904640489547%\n",
      "female top head artists 5124 / 16.33095359510454%\n"
     ]
    }
   ],
   "source": [
    "th_artists_df = artist_mat_le75_df[artist_mat_le75_df.id.isin(th_artists)]\n",
    "th_artist_u, th_artist_m, th_artist_f, th_artist_o, th_artist_na = compute_artist_gender_dist(th_artists_df)\n",
    "#th_artist_f\n",
    "total_a = len(th_artist_m) + len(th_artist_f)\n",
    "print('male top head artists {} / {}%'.format(len(th_artist_m),(len(th_artist_m)*100)/total_a))\n",
    "print('female top head artists {} / {}%'.format(len(th_artist_f),(len(th_artist_f)*100)/total_a))"
   ]
  },
  {
   "cell_type": "code",
   "execution_count": 39,
   "metadata": {},
   "outputs": [
    {
     "name": "stdout",
     "output_type": "stream",
     "text": [
      "male long tail artists 102482 / 81.65831347957386%\n",
      "female long tail artists 23019 / 18.341686520426133%\n"
     ]
    }
   ],
   "source": [
    "longt_artists = artist_mat_le75_df[artist_mat_le75_df.id.isin(lt_artists)]\n",
    "lt_artist_u, lt_artist_m, lt_artist_f, lt_artist_o, lt_artist_na = compute_artist_gender_dist(longt_artists)\n",
    "total_a = len(lt_artist_m) + len(lt_artist_f)\n",
    "\n",
    "print('male long tail artists {} / {}%'.format(len(lt_artist_m),(len(lt_artist_m)*100)/total_a))\n",
    "print('female long tail artists {} / {}%'.format(len(lt_artist_f),(len(lt_artist_f)*100)/total_a))"
   ]
  },
  {
   "cell_type": "markdown",
   "metadata": {},
   "source": [
    "### Analaysis of gender distribution of most popular artists"
   ]
  },
  {
   "cell_type": "code",
   "execution_count": 31,
   "metadata": {},
   "outputs": [],
   "source": [
    "most_popular_artists_df = df_events[['artist','playcount']].groupby('artist').sum()"
   ]
  },
  {
   "cell_type": "code",
   "execution_count": 32,
   "metadata": {
    "scrolled": false
   },
   "outputs": [],
   "source": [
    "most_popular_artists_df = most_popular_artists_df.sort_values(by=['playcount'], ascending=False)\n",
    "top100_artist_ids = most_popular_artists_df.index[:1000]"
   ]
  },
  {
   "cell_type": "code",
   "execution_count": 33,
   "metadata": {},
   "outputs": [],
   "source": [
    "most_popular_artists_df['artist'] = most_popular_artists_df.index"
   ]
  },
  {
   "cell_type": "code",
   "execution_count": 34,
   "metadata": {},
   "outputs": [],
   "source": [
    "top100_artists = artist_mat_le75_df[artist_mat_le75_df.id.isin(top100_artist_ids)]"
   ]
  },
  {
   "cell_type": "code",
   "execution_count": 35,
   "metadata": {},
   "outputs": [
    {
     "name": "stdout",
     "output_type": "stream",
     "text": [
      "Artist Gender Distribution in Matrix\n",
      "m count: 833, 83.3%\n",
      "f count: 93, 9.3%\n",
      "u count: 70, 7.0%\n",
      "o count: 4, 0.4%\n"
     ]
    }
   ],
   "source": [
    "# Gender distribution analysis\n",
    "artist_u, artist_m, artist_f, artist_o, artist_na = compute_artist_gender_dist(top100_artists)\n",
    "\n",
    "artist_m_count = len(artist_m)\n",
    "artist_f_count = len(artist_f)\n",
    "artist_undef_count = len(artist_u)\n",
    "artist_other_count = len(artist_o)\n",
    "artist_total_count = artist_m_count + artist_f_count + artist_undef_count + artist_other_count \n",
    "\n",
    "# Output artist gender distribution\n",
    "print('Artist Gender Distribution in Matrix')\n",
    "print('m count: {}, {}%'.format(artist_m_count,artist_m_count*100/artist_total_count))\n",
    "print('f count: {}, {}%'.format(artist_f_count,artist_f_count*100/artist_total_count))\n",
    "print('u count: {}, {}%'.format(artist_undef_count,artist_undef_count*100/artist_total_count))\n",
    "print('o count: {}, {}%'.format(artist_other_count,artist_other_count*100/artist_total_count))"
   ]
  },
  {
   "cell_type": "code",
   "execution_count": 37,
   "metadata": {
    "scrolled": true
   },
   "outputs": [
    {
     "data": {
      "text/html": [
       "<div>\n",
       "<style scoped>\n",
       "    .dataframe tbody tr th:only-of-type {\n",
       "        vertical-align: middle;\n",
       "    }\n",
       "\n",
       "    .dataframe tbody tr th {\n",
       "        vertical-align: top;\n",
       "    }\n",
       "\n",
       "    .dataframe thead th {\n",
       "        text-align: right;\n",
       "    }\n",
       "</style>\n",
       "<table border=\"1\" class=\"dataframe\">\n",
       "  <thead>\n",
       "    <tr style=\"text-align: right;\">\n",
       "      <th></th>\n",
       "      <th>id</th>\n",
       "      <th>artist</th>\n",
       "      <th>gender_dist</th>\n",
       "      <th>identified_gender</th>\n",
       "      <th>playcount</th>\n",
       "    </tr>\n",
       "  </thead>\n",
       "  <tbody>\n",
       "    <tr>\n",
       "      <th>1601</th>\n",
       "      <td>1602</td>\n",
       "      <td>Radiohead</td>\n",
       "      <td>[0, 5, 0, 0, 0]</td>\n",
       "      <td>1</td>\n",
       "      <td>2583521.0</td>\n",
       "    </tr>\n",
       "    <tr>\n",
       "      <th>367</th>\n",
       "      <td>368</td>\n",
       "      <td>The Beatles</td>\n",
       "      <td>[0, 6, 0, 0, 0]</td>\n",
       "      <td>1</td>\n",
       "      <td>2470811.0</td>\n",
       "    </tr>\n",
       "    <tr>\n",
       "      <th>53</th>\n",
       "      <td>54</td>\n",
       "      <td>Pink Floyd</td>\n",
       "      <td>[0, 6, 0, 0, 0]</td>\n",
       "      <td>1</td>\n",
       "      <td>2094891.0</td>\n",
       "    </tr>\n",
       "    <tr>\n",
       "      <th>319</th>\n",
       "      <td>320</td>\n",
       "      <td>Daft Punk</td>\n",
       "      <td>[0, 2, 0, 0, 0]</td>\n",
       "      <td>1</td>\n",
       "      <td>2047174.0</td>\n",
       "    </tr>\n",
       "    <tr>\n",
       "      <th>54</th>\n",
       "      <td>55</td>\n",
       "      <td>Metallica</td>\n",
       "      <td>[0, 8, 0, 0, 0]</td>\n",
       "      <td>1</td>\n",
       "      <td>1894880.0</td>\n",
       "    </tr>\n",
       "    <tr>\n",
       "      <th>300</th>\n",
       "      <td>301</td>\n",
       "      <td>Linkin Park</td>\n",
       "      <td>[2, 7, 0, 0, 0]</td>\n",
       "      <td>1</td>\n",
       "      <td>1878695.0</td>\n",
       "    </tr>\n",
       "    <tr>\n",
       "      <th>152</th>\n",
       "      <td>153</td>\n",
       "      <td>Muse</td>\n",
       "      <td>[0, 3, 0, 0, 0]</td>\n",
       "      <td>1</td>\n",
       "      <td>1831174.0</td>\n",
       "    </tr>\n",
       "    <tr>\n",
       "      <th>45</th>\n",
       "      <td>46</td>\n",
       "      <td>Coldplay</td>\n",
       "      <td>[0, 4, 0, 0, 0]</td>\n",
       "      <td>1</td>\n",
       "      <td>1775041.0</td>\n",
       "    </tr>\n",
       "    <tr>\n",
       "      <th>4114</th>\n",
       "      <td>4115</td>\n",
       "      <td>Arctic Monkeys</td>\n",
       "      <td>[0, 5, 0, 0, 0]</td>\n",
       "      <td>1</td>\n",
       "      <td>1702441.0</td>\n",
       "    </tr>\n",
       "    <tr>\n",
       "      <th>26</th>\n",
       "      <td>27</td>\n",
       "      <td>Red Hot Chili Peppers</td>\n",
       "      <td>[0, 18, 0, 0, 0]</td>\n",
       "      <td>1</td>\n",
       "      <td>1577816.0</td>\n",
       "    </tr>\n",
       "  </tbody>\n",
       "</table>\n",
       "</div>"
      ],
      "text/plain": [
       "        id                 artist       gender_dist  identified_gender  \\\n",
       "1601  1602              Radiohead   [0, 5, 0, 0, 0]                  1   \n",
       "367    368            The Beatles   [0, 6, 0, 0, 0]                  1   \n",
       "53      54             Pink Floyd   [0, 6, 0, 0, 0]                  1   \n",
       "319    320              Daft Punk   [0, 2, 0, 0, 0]                  1   \n",
       "54      55              Metallica   [0, 8, 0, 0, 0]                  1   \n",
       "300    301            Linkin Park   [2, 7, 0, 0, 0]                  1   \n",
       "152    153                   Muse   [0, 3, 0, 0, 0]                  1   \n",
       "45      46               Coldplay   [0, 4, 0, 0, 0]                  1   \n",
       "4114  4115         Arctic Monkeys   [0, 5, 0, 0, 0]                  1   \n",
       "26      27  Red Hot Chili Peppers  [0, 18, 0, 0, 0]                  1   \n",
       "\n",
       "      playcount  \n",
       "1601  2583521.0  \n",
       "367   2470811.0  \n",
       "53    2094891.0  \n",
       "319   2047174.0  \n",
       "54    1894880.0  \n",
       "300   1878695.0  \n",
       "152   1831174.0  \n",
       "45    1775041.0  \n",
       "4114  1702441.0  \n",
       "26    1577816.0  "
      ]
     },
     "execution_count": 37,
     "metadata": {},
     "output_type": "execute_result"
    }
   ],
   "source": [
    "for id_a in artist_m.id.values:\n",
    "    pc = most_popular_artists_df[most_popular_artists_df.artist == id_a].playcount.values[0]\n",
    "    artist_m.loc[artist_m['id'] == id_a, 'playcount'] = pc\n",
    "\n",
    "artist_m.sort_values(by=['playcount'], ascending=False)[:10]"
   ]
  },
  {
   "cell_type": "code",
   "execution_count": 38,
   "metadata": {},
   "outputs": [
    {
     "data": {
      "text/html": [
       "<div>\n",
       "<style scoped>\n",
       "    .dataframe tbody tr th:only-of-type {\n",
       "        vertical-align: middle;\n",
       "    }\n",
       "\n",
       "    .dataframe tbody tr th {\n",
       "        vertical-align: top;\n",
       "    }\n",
       "\n",
       "    .dataframe thead th {\n",
       "        text-align: right;\n",
       "    }\n",
       "</style>\n",
       "<table border=\"1\" class=\"dataframe\">\n",
       "  <thead>\n",
       "    <tr style=\"text-align: right;\">\n",
       "      <th></th>\n",
       "      <th>id</th>\n",
       "      <th>artist</th>\n",
       "      <th>gender_dist</th>\n",
       "      <th>identified_gender</th>\n",
       "      <th>playcount</th>\n",
       "    </tr>\n",
       "  </thead>\n",
       "  <tbody>\n",
       "    <tr>\n",
       "      <th>401</th>\n",
       "      <td>402</td>\n",
       "      <td>Lana Del Rey</td>\n",
       "      <td>[0, 0, 1, 0, 0]</td>\n",
       "      <td>2</td>\n",
       "      <td>1220124.0</td>\n",
       "    </tr>\n",
       "    <tr>\n",
       "      <th>31</th>\n",
       "      <td>32</td>\n",
       "      <td>The xx</td>\n",
       "      <td>[0, 2, 2, 0, 0]</td>\n",
       "      <td>2</td>\n",
       "      <td>1177259.0</td>\n",
       "    </tr>\n",
       "    <tr>\n",
       "      <th>136</th>\n",
       "      <td>137</td>\n",
       "      <td>Lady Gaga</td>\n",
       "      <td>[0, 0, 1, 0, 0]</td>\n",
       "      <td>2</td>\n",
       "      <td>1072581.0</td>\n",
       "    </tr>\n",
       "    <tr>\n",
       "      <th>354</th>\n",
       "      <td>355</td>\n",
       "      <td>Rihanna</td>\n",
       "      <td>[0, 0, 1, 0, 0]</td>\n",
       "      <td>2</td>\n",
       "      <td>772051.0</td>\n",
       "    </tr>\n",
       "    <tr>\n",
       "      <th>4082</th>\n",
       "      <td>4083</td>\n",
       "      <td>Björk</td>\n",
       "      <td>[0, 0, 1, 0, 0]</td>\n",
       "      <td>2</td>\n",
       "      <td>694054.0</td>\n",
       "    </tr>\n",
       "    <tr>\n",
       "      <th>349</th>\n",
       "      <td>350</td>\n",
       "      <td>Madonna</td>\n",
       "      <td>[0, 0, 1, 0, 0]</td>\n",
       "      <td>2</td>\n",
       "      <td>599308.0</td>\n",
       "    </tr>\n",
       "    <tr>\n",
       "      <th>27</th>\n",
       "      <td>28</td>\n",
       "      <td>Avril Lavigne</td>\n",
       "      <td>[0, 0, 1, 0, 0]</td>\n",
       "      <td>2</td>\n",
       "      <td>597773.0</td>\n",
       "    </tr>\n",
       "    <tr>\n",
       "      <th>352</th>\n",
       "      <td>353</td>\n",
       "      <td>Britney Spears</td>\n",
       "      <td>[0, 0, 1, 0, 0]</td>\n",
       "      <td>2</td>\n",
       "      <td>583874.0</td>\n",
       "    </tr>\n",
       "    <tr>\n",
       "      <th>3731</th>\n",
       "      <td>3732</td>\n",
       "      <td>Katy Perry</td>\n",
       "      <td>[0, 0, 1, 0, 0]</td>\n",
       "      <td>2</td>\n",
       "      <td>578455.0</td>\n",
       "    </tr>\n",
       "    <tr>\n",
       "      <th>9717</th>\n",
       "      <td>9718</td>\n",
       "      <td>Glee Cast</td>\n",
       "      <td>[0, 8, 9, 0, 0]</td>\n",
       "      <td>2</td>\n",
       "      <td>559774.0</td>\n",
       "    </tr>\n",
       "  </tbody>\n",
       "</table>\n",
       "</div>"
      ],
      "text/plain": [
       "        id          artist      gender_dist  identified_gender  playcount\n",
       "401    402    Lana Del Rey  [0, 0, 1, 0, 0]                  2  1220124.0\n",
       "31      32          The xx  [0, 2, 2, 0, 0]                  2  1177259.0\n",
       "136    137       Lady Gaga  [0, 0, 1, 0, 0]                  2  1072581.0\n",
       "354    355         Rihanna  [0, 0, 1, 0, 0]                  2   772051.0\n",
       "4082  4083           Björk  [0, 0, 1, 0, 0]                  2   694054.0\n",
       "349    350         Madonna  [0, 0, 1, 0, 0]                  2   599308.0\n",
       "27      28   Avril Lavigne  [0, 0, 1, 0, 0]                  2   597773.0\n",
       "352    353  Britney Spears  [0, 0, 1, 0, 0]                  2   583874.0\n",
       "3731  3732      Katy Perry  [0, 0, 1, 0, 0]                  2   578455.0\n",
       "9717  9718       Glee Cast  [0, 8, 9, 0, 0]                  2   559774.0"
      ]
     },
     "execution_count": 38,
     "metadata": {},
     "output_type": "execute_result"
    }
   ],
   "source": [
    "for id_a in artist_f.id.values:\n",
    "    pc = most_popular_artists_df[most_popular_artists_df.artist == id_a].playcount.values[0]\n",
    "    artist_f.loc[artist_f['id'] == id_a, 'playcount'] = pc\n",
    "\n",
    "artist_f.sort_values(by=['playcount'], ascending=False)[:10]"
   ]
  },
  {
   "cell_type": "code",
   "execution_count": null,
   "metadata": {},
   "outputs": [],
   "source": []
  }
 ],
 "metadata": {
  "kernelspec": {
   "display_name": "Python 3",
   "language": "python",
   "name": "python3"
  },
  "language_info": {
   "codemirror_mode": {
    "name": "ipython",
    "version": 3
   },
   "file_extension": ".py",
   "mimetype": "text/x-python",
   "name": "python",
   "nbconvert_exporter": "python",
   "pygments_lexer": "ipython3",
   "version": "3.6.9"
  }
 },
 "nbformat": 4,
 "nbformat_minor": 2
}
