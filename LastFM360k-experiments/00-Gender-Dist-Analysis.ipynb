{
 "cells": [
  {
   "cell_type": "markdown",
   "metadata": {},
   "source": [
    "# Exploring the Effect of Collaborative Filtering on Gender Bias Disparity in Last-FM Listening Events - LastFM360k Analysis\n",
    "\n",
    "Author: Dougal Shakespeare, Lorenzo Porcaro \n",
    "\n",
    ">Analysis of gender distribution achieved by merging the LastFM360k dataset consisting of Last FM listening histories with artist gender meta-data found in a local config of the MusicBrainz db. The metric of bias-disparity is utalised to assess relative increases in biases towards item categories (in this case gender) subsequent to the production of music recommendations through CF methodologies. "
   ]
  },
  {
   "cell_type": "markdown",
   "metadata": {},
   "source": [
    "## 0. Downloading Last-fm Datasets\n",
    "\n",
    "### Data Dump Download\n",
    "\n",
    "todo: write about downloading zip file of all data"
   ]
  },
  {
   "cell_type": "markdown",
   "metadata": {},
   "source": [
    "## 1. Import Dataset to DataFrames\n",
    "\n",
    "We must first remove all artists whose name is a web link as this data is deemed to be dirty. This can be achieved using a simple regex expression (see below):\n"
   ]
  },
  {
   "cell_type": "code",
   "execution_count": 1,
   "metadata": {},
   "outputs": [],
   "source": [
    "import random as rd\n",
    "import pandas as pd\n",
    "import numpy as np\n",
    "import matplotlib as mplt\n",
    "import matplotlib.pyplot as plt\n",
    "from collections import defaultdict\n",
    "from scipy import stats\n",
    "import requests\n",
    "import re\n",
    "import os\n",
    "import h5py\n",
    "from scipy import sparse\n",
    "import csv\n",
    "import random\n",
    "\n",
    "%matplotlib inline\n",
    "plt.rcParams[\"figure.figsize\"] = [10, 5]"
   ]
  },
  {
   "cell_type": "code",
   "execution_count": 21,
   "metadata": {},
   "outputs": [],
   "source": [
    "# user-artist le after 75% filtering\n",
    "lastfm360k_le75_path = 'baseline-data/LastFM360k-Le75.txt'\n",
    "\n",
    "# files created by data wrangling with MusicBrainz \n",
    "dirty_artist_gender_file = 'baseline-data/LastFM360k-MB-artists.txt'\n",
    "\n",
    "# new files to create...\n",
    "lastfm360k_le75_filtered_mf_path = 'baseline-data/LastFM360k-le75_mf.csv'\n",
    "lastfm360k_le75_artists_path = 'baseline-data/artists-LastFM360k-le75.csv'\n",
    "user_file = 'baseline-data/lastfm360k_users.txt'"
   ]
  },
  {
   "cell_type": "code",
   "execution_count": 3,
   "metadata": {},
   "outputs": [
    {
     "data": {
      "text/html": [
       "<div>\n",
       "<style scoped>\n",
       "    .dataframe tbody tr th:only-of-type {\n",
       "        vertical-align: middle;\n",
       "    }\n",
       "\n",
       "    .dataframe tbody tr th {\n",
       "        vertical-align: top;\n",
       "    }\n",
       "\n",
       "    .dataframe thead th {\n",
       "        text-align: right;\n",
       "    }\n",
       "</style>\n",
       "<table border=\"1\" class=\"dataframe\">\n",
       "  <thead>\n",
       "    <tr style=\"text-align: right;\">\n",
       "      <th></th>\n",
       "      <th>id</th>\n",
       "      <th>artist</th>\n",
       "      <th>gender_dist</th>\n",
       "      <th>mb-id</th>\n",
       "      <th>identified_gender</th>\n",
       "    </tr>\n",
       "  </thead>\n",
       "  <tbody>\n",
       "    <tr>\n",
       "      <th>0</th>\n",
       "      <td>164618</td>\n",
       "      <td>genlevel</td>\n",
       "      <td>1/0/0/0/0</td>\n",
       "      <td>NaN</td>\n",
       "      <td>0.0</td>\n",
       "    </tr>\n",
       "    <tr>\n",
       "      <th>1</th>\n",
       "      <td>77828</td>\n",
       "      <td>thelma blankenship</td>\n",
       "      <td>1/0/0/0/0</td>\n",
       "      <td>164221ae-1022-4c93-8227-2b5a8329ae1c</td>\n",
       "      <td>0.0</td>\n",
       "    </tr>\n",
       "    <tr>\n",
       "      <th>2</th>\n",
       "      <td>14379</td>\n",
       "      <td>the damning well</td>\n",
       "      <td>0/4/0/0/0</td>\n",
       "      <td>2a3dc878-34f8-48a6-8591-caa8f7b1f70f</td>\n",
       "      <td>0.0</td>\n",
       "    </tr>\n",
       "    <tr>\n",
       "      <th>3</th>\n",
       "      <td>53216</td>\n",
       "      <td>andy dick</td>\n",
       "      <td>0/1/0/0/0</td>\n",
       "      <td>2a18326b-450d-4fe0-907c-6d93521e88c1</td>\n",
       "      <td>0.0</td>\n",
       "    </tr>\n",
       "    <tr>\n",
       "      <th>4</th>\n",
       "      <td>105916</td>\n",
       "      <td>mr. burns</td>\n",
       "      <td>1/0/0/0/0</td>\n",
       "      <td>c8532d82-7deb-4cfc-be76-bb777688790b</td>\n",
       "      <td>0.0</td>\n",
       "    </tr>\n",
       "  </tbody>\n",
       "</table>\n",
       "</div>"
      ],
      "text/plain": [
       "       id              artist gender_dist  \\\n",
       "0  164618            genlevel   1/0/0/0/0   \n",
       "1   77828  thelma blankenship   1/0/0/0/0   \n",
       "2   14379    the damning well   0/4/0/0/0   \n",
       "3   53216           andy dick   0/1/0/0/0   \n",
       "4  105916           mr. burns   1/0/0/0/0   \n",
       "\n",
       "                                  mb-id  identified_gender  \n",
       "0                                   NaN                0.0  \n",
       "1  164221ae-1022-4c93-8227-2b5a8329ae1c                0.0  \n",
       "2  2a3dc878-34f8-48a6-8591-caa8f7b1f70f                0.0  \n",
       "3  2a18326b-450d-4fe0-907c-6d93521e88c1                0.0  \n",
       "4  c8532d82-7deb-4cfc-be76-bb777688790b                0.0  "
      ]
     },
     "execution_count": 3,
     "metadata": {},
     "output_type": "execute_result"
    }
   ],
   "source": [
    "# Load the artist data into a Pandas dataframe\n",
    "cols = ['id', 'artist', 'gender_dist', 'mb-id']\n",
    "artist_gender = pd.read_csv(dirty_artist_gender_file, sep='\\t', names=cols)\n",
    "\n",
    "# initialise new collumn in dataframe to represent classified gender \n",
    "artist_gender['identified_gender'] = np.zeros(len(artist_gender))\n",
    "\n",
    "# print sample of dataframe\n",
    "artist_gender.head()"
   ]
  },
  {
   "cell_type": "markdown",
   "metadata": {},
   "source": [
    "## 2. Gender Classification:\n",
    "\n",
    "The next step is to classify a gender based on the artists gender_dist. To achieve this we will first consider classifiying gender by which ever gender in the dist has a majority."
   ]
  },
  {
   "cell_type": "code",
   "execution_count": 4,
   "metadata": {},
   "outputs": [],
   "source": [
    "# Parse the field gender_dist to be an array for ease of access as it is currently stored as a string in df\n",
    "def parse_gender(g_dist):\n",
    "    g_count = g_dist.split(\"/\")   \n",
    "    return list(map(int, g_count))\n",
    "\n",
    "gender_dist_list = artist_gender['gender_dist'].map(parse_gender)\n",
    "artist_gender = artist_gender.assign(gender_dist = gender_dist_list)"
   ]
  },
  {
   "cell_type": "code",
   "execution_count": 5,
   "metadata": {},
   "outputs": [],
   "source": [
    "# finds index of the maximum values, if multiple, make random selection\n",
    "def classify_gender_majority(g):\n",
    "    max_indexes = [i for i, x in enumerate(g) if x == max(g)]\n",
    "    return random.choice(max_indexes)\n",
    "\n",
    "# classify gender\n",
    "majority_gender = gender_dist_list.map(classify_gender_majority)\n",
    "# reasign the data frame\n",
    "artist_gender = artist_gender.assign(identified_gender = majority_gender)"
   ]
  },
  {
   "cell_type": "code",
   "execution_count": 6,
   "metadata": {},
   "outputs": [],
   "source": [
    "## Print stats of artist gender distribution in LFM-1b-MB dataset\n",
    "def compute_artist_gender_dist(df_a):\n",
    "    artist_u = df_a[df_a.identified_gender == 0]\n",
    "    artist_m = df_a[df_a.identified_gender == 1]\n",
    "    artist_f = df_a[df_a.identified_gender == 2]\n",
    "    artist_o = df_a[df_a.identified_gender == 3]\n",
    "    artist_na = df_a[df_a.identified_gender == 4] \n",
    "    return artist_u, artist_m, artist_f, artist_o, artist_na"
   ]
  },
  {
   "cell_type": "code",
   "execution_count": 7,
   "metadata": {},
   "outputs": [
    {
     "data": {
      "text/html": [
       "<div>\n",
       "<style scoped>\n",
       "    .dataframe tbody tr th:only-of-type {\n",
       "        vertical-align: middle;\n",
       "    }\n",
       "\n",
       "    .dataframe tbody tr th {\n",
       "        vertical-align: top;\n",
       "    }\n",
       "\n",
       "    .dataframe thead th {\n",
       "        text-align: right;\n",
       "    }\n",
       "</style>\n",
       "<table border=\"1\" class=\"dataframe\">\n",
       "  <thead>\n",
       "    <tr style=\"text-align: right;\">\n",
       "      <th></th>\n",
       "      <th>id</th>\n",
       "      <th>artist</th>\n",
       "      <th>gender_dist</th>\n",
       "      <th>mb-id</th>\n",
       "      <th>identified_gender</th>\n",
       "    </tr>\n",
       "  </thead>\n",
       "  <tbody>\n",
       "    <tr>\n",
       "      <th>0</th>\n",
       "      <td>164618</td>\n",
       "      <td>genlevel</td>\n",
       "      <td>[1, 0, 0, 0, 0]</td>\n",
       "      <td>NaN</td>\n",
       "      <td>0</td>\n",
       "    </tr>\n",
       "    <tr>\n",
       "      <th>1</th>\n",
       "      <td>77828</td>\n",
       "      <td>thelma blankenship</td>\n",
       "      <td>[1, 0, 0, 0, 0]</td>\n",
       "      <td>164221ae-1022-4c93-8227-2b5a8329ae1c</td>\n",
       "      <td>0</td>\n",
       "    </tr>\n",
       "    <tr>\n",
       "      <th>2</th>\n",
       "      <td>14379</td>\n",
       "      <td>the damning well</td>\n",
       "      <td>[0, 4, 0, 0, 0]</td>\n",
       "      <td>2a3dc878-34f8-48a6-8591-caa8f7b1f70f</td>\n",
       "      <td>1</td>\n",
       "    </tr>\n",
       "    <tr>\n",
       "      <th>3</th>\n",
       "      <td>53216</td>\n",
       "      <td>andy dick</td>\n",
       "      <td>[0, 1, 0, 0, 0]</td>\n",
       "      <td>2a18326b-450d-4fe0-907c-6d93521e88c1</td>\n",
       "      <td>1</td>\n",
       "    </tr>\n",
       "    <tr>\n",
       "      <th>4</th>\n",
       "      <td>105916</td>\n",
       "      <td>mr. burns</td>\n",
       "      <td>[1, 0, 0, 0, 0]</td>\n",
       "      <td>c8532d82-7deb-4cfc-be76-bb777688790b</td>\n",
       "      <td>0</td>\n",
       "    </tr>\n",
       "  </tbody>\n",
       "</table>\n",
       "</div>"
      ],
      "text/plain": [
       "       id              artist      gender_dist  \\\n",
       "0  164618            genlevel  [1, 0, 0, 0, 0]   \n",
       "1   77828  thelma blankenship  [1, 0, 0, 0, 0]   \n",
       "2   14379    the damning well  [0, 4, 0, 0, 0]   \n",
       "3   53216           andy dick  [0, 1, 0, 0, 0]   \n",
       "4  105916           mr. burns  [1, 0, 0, 0, 0]   \n",
       "\n",
       "                                  mb-id  identified_gender  \n",
       "0                                   NaN                  0  \n",
       "1  164221ae-1022-4c93-8227-2b5a8329ae1c                  0  \n",
       "2  2a3dc878-34f8-48a6-8591-caa8f7b1f70f                  1  \n",
       "3  2a18326b-450d-4fe0-907c-6d93521e88c1                  1  \n",
       "4  c8532d82-7deb-4cfc-be76-bb777688790b                  0  "
      ]
     },
     "execution_count": 7,
     "metadata": {},
     "output_type": "execute_result"
    }
   ],
   "source": [
    "# Print our newly updated artist_gender dataframe with an array for gender_dist and identified_gender field\n",
    "artist_gender.head()"
   ]
  },
  {
   "cell_type": "markdown",
   "metadata": {},
   "source": [
    "## 3. Gender Analysis with the full LFM-1b data-set\n",
    "\n",
    "We will first consider analysis with the full data-set before considering the user artist matrix distributions which will be used when generating CF recommendations."
   ]
  },
  {
   "cell_type": "markdown",
   "metadata": {},
   "source": [
    "### 3.1. Gender Distribution Plots For Artists in LFM-1b\n",
    "\n",
    "We are able to identify gender using the 'majority' criteria on 13.1% of artists in the LFM-1b dataset. \n",
    "\n",
    "In pleniminary experiments, idenficiation rates were around 2-4%. \n",
    "\n",
    "This was increased by using a fuzzy match which returns 5 possible artist candidates from the MusicBrainz db. \n",
    "\n",
    "Artist selection was then achieved through a song matching criteria where the candidate artist whos artist songs had the highest unison with the LFM-1B artist was selected (when unison > 1)."
   ]
  },
  {
   "cell_type": "code",
   "execution_count": 8,
   "metadata": {},
   "outputs": [
    {
     "name": "stdout",
     "output_type": "stream",
     "text": [
      "- Undef Gender Count: 208982\n",
      "- Male Gender Count: 68160\n",
      "- Female Gender Count: 15242\n",
      "- Other Gender Count: 33\n",
      "- NA Gender Count: 64\n",
      "- Total: 292481\n"
     ]
    }
   ],
   "source": [
    "artist_u, artist_m, artist_f, artist_o, artist_na = compute_artist_gender_dist(artist_gender)\n",
    "#male_count, na_count, female_count, other_count\n",
    "male_count = len(artist_m)\n",
    "female_count = len(artist_f)\n",
    "undef_count = len(artist_u)\n",
    "other_count = len(artist_o)\n",
    "na_count = len(artist_na)\n",
    "total_count = male_count + female_count + undef_count + other_count + na_count\n",
    "\n",
    "print ('- Undef Gender Count:', undef_count)\n",
    "print ('- Male Gender Count:', male_count)\n",
    "print ('- Female Gender Count:', female_count)\n",
    "print ('- Other Gender Count:', other_count)\n",
    "print ('- NA Gender Count:', na_count)\n",
    "print ('- Total:', total_count)"
   ]
  },
  {
   "cell_type": "code",
   "execution_count": 9,
   "metadata": {},
   "outputs": [
    {
     "data": {
      "image/png": "[encoded data removed]",
      "text/plain": [
       "<Figure size 720x720 with 1 Axes>"
      ]
     },
     "metadata": {},
     "output_type": "display_data"
    }
   ],
   "source": [
    "# Pie chart to display succesfully identified artists\n",
    "labels = 'Identifed gender', 'Unidentified gender'\n",
    "sizes = [total_count - undef_count, undef_count]\n",
    "\n",
    "fig1, ax1 = plt.subplots(figsize=(10, 10))\n",
    "explode = (0.2, 0) \n",
    "colors = ['#FF8282','#F5F1ED']\n",
    "\n",
    "patches, texts, autotexts = ax1.pie(sizes, explode = explode, labels=labels, colors = colors, autopct='%1.1f%%',\n",
    "        shadow=True, startangle=40)\n",
    "\n",
    "plt.legend(patches, labels, loc=\"best\")\n",
    "\n",
    "ax1.axis('equal')  # Equal aspect ratio ensures that pie is drawn as a circle.\n",
    "\n",
    "for text in texts:\n",
    "    text.set_color('grey')\n",
    "for autotext in autotexts:\n",
    "    autotext.set_color('grey')\n",
    "\n",
    "plt.rcParams[\"figure.figsize\"] = (2,2)\n",
    "plt.title('Lastfm-300k Artist Identified Gender Distribution')\n",
    "plt.show()"
   ]
  },
  {
   "cell_type": "code",
   "execution_count": 10,
   "metadata": {},
   "outputs": [
    {
     "data": {
      "image/png": "[encoded data removed]",
      "text/plain": [
       "<Figure size 720x720 with 1 Axes>"
      ]
     },
     "metadata": {},
     "output_type": "display_data"
    }
   ],
   "source": [
    "# Pie chart, where the slices will be ordered and plotted counter-clockwise:\n",
    "\n",
    "labels = 'Male', 'NA', 'Female', 'Other' \n",
    "sizes = [male_count, na_count, female_count, other_count]\n",
    "\n",
    "fig1, ax1 = plt.subplots(figsize=(10, 10))\n",
    "\n",
    "explode = (0, 0.2, 0.4, 0.1) \n",
    "colors = ['#ff9999','#66b3ff','#99ff99','#ffcc99', '#ffcc91']\n",
    "\n",
    "patches, texts, autotexts = ax1.pie(sizes, explode = explode, labels=labels, colors = colors, autopct='%1.1f%%',\n",
    "        shadow=True, startangle=40)\n",
    "\n",
    "plt.legend(patches, labels, loc=\"best\")\n",
    "\n",
    "ax1.axis('equal')  # Equal aspect ratio ensures that pie is drawn as a circle.\n",
    "\n",
    "for text in texts:\n",
    "    text.set_color('grey')\n",
    "for autotext in autotexts:\n",
    "    autotext.set_color('grey')\n",
    "\n",
    "plt.rcParams[\"figure.figsize\"] = (2,2)\n",
    "plt.title('Lastfm-300k Gender Distribution for Identified Artists (Not Undef)')\n",
    "\n",
    "plt.show()"
   ]
  },
  {
   "cell_type": "markdown",
   "metadata": {},
   "source": [
    "### 3.2. Gender Analysis For Users in The LFM-1b dataset\n"
   ]
  },
  {
   "cell_type": "code",
   "execution_count": 11,
   "metadata": {},
   "outputs": [
    {
     "data": {
      "text/html": [
       "<div>\n",
       "<style scoped>\n",
       "    .dataframe tbody tr th:only-of-type {\n",
       "        vertical-align: middle;\n",
       "    }\n",
       "\n",
       "    .dataframe tbody tr th {\n",
       "        vertical-align: top;\n",
       "    }\n",
       "\n",
       "    .dataframe thead th {\n",
       "        text-align: right;\n",
       "    }\n",
       "</style>\n",
       "<table border=\"1\" class=\"dataframe\">\n",
       "  <thead>\n",
       "    <tr style=\"text-align: right;\">\n",
       "      <th></th>\n",
       "      <th>user_id</th>\n",
       "      <th>country</th>\n",
       "      <th>age</th>\n",
       "      <th>gender</th>\n",
       "      <th>playcount</th>\n",
       "      <th>user_sha1</th>\n",
       "    </tr>\n",
       "  </thead>\n",
       "  <tbody>\n",
       "    <tr>\n",
       "      <th>0</th>\n",
       "      <td>351272</td>\n",
       "      <td>Sweden</td>\n",
       "      <td>25.0</td>\n",
       "      <td>f</td>\n",
       "      <td>6175</td>\n",
       "      <td>fa40b43298ba3f8aa52e8e8863faf2e2171e0b5d</td>\n",
       "    </tr>\n",
       "    <tr>\n",
       "      <th>1</th>\n",
       "      <td>293958</td>\n",
       "      <td>United States</td>\n",
       "      <td>30.0</td>\n",
       "      <td>m</td>\n",
       "      <td>1590</td>\n",
       "      <td>d1867cbda35e0d48e9a8390d9f5e079c9d99ea96</td>\n",
       "    </tr>\n",
       "    <tr>\n",
       "      <th>2</th>\n",
       "      <td>3567</td>\n",
       "      <td>Netherlands</td>\n",
       "      <td>24.0</td>\n",
       "      <td>m</td>\n",
       "      <td>7644</td>\n",
       "      <td>02871cd952d607ba69b64e2e107773012c708113</td>\n",
       "    </tr>\n",
       "    <tr>\n",
       "      <th>3</th>\n",
       "      <td>12919</td>\n",
       "      <td>United States</td>\n",
       "      <td>22.0</td>\n",
       "      <td>m</td>\n",
       "      <td>29195</td>\n",
       "      <td>0938eb3d1b449b480c4e2431c457f6ead7063a34</td>\n",
       "    </tr>\n",
       "    <tr>\n",
       "      <th>4</th>\n",
       "      <td>320912</td>\n",
       "      <td>United States</td>\n",
       "      <td>NaN</td>\n",
       "      <td>f</td>\n",
       "      <td>7521</td>\n",
       "      <td>e4c6b36e65db3d48474dd538fe74d2dbb5a2e79e</td>\n",
       "    </tr>\n",
       "  </tbody>\n",
       "</table>\n",
       "</div>"
      ],
      "text/plain": [
       "   user_id        country   age gender  playcount  \\\n",
       "0   351272         Sweden  25.0      f       6175   \n",
       "1   293958  United States  30.0      m       1590   \n",
       "2     3567    Netherlands  24.0      m       7644   \n",
       "3    12919  United States  22.0      m      29195   \n",
       "4   320912  United States   NaN      f       7521   \n",
       "\n",
       "                                  user_sha1  \n",
       "0  fa40b43298ba3f8aa52e8e8863faf2e2171e0b5d  \n",
       "1  d1867cbda35e0d48e9a8390d9f5e079c9d99ea96  \n",
       "2  02871cd952d607ba69b64e2e107773012c708113  \n",
       "3  0938eb3d1b449b480c4e2431c457f6ead7063a34  \n",
       "4  e4c6b36e65db3d48474dd538fe74d2dbb5a2e79e  "
      ]
     },
     "execution_count": 11,
     "metadata": {},
     "output_type": "execute_result"
    }
   ],
   "source": [
    "user_df = pd.read_csv(user_file, sep='\\t')\n",
    "# print user data-frame\n",
    "user_df.head()"
   ]
  },
  {
   "cell_type": "code",
   "execution_count": 12,
   "metadata": {},
   "outputs": [],
   "source": [
    "# classify all users with nan as n/a, there is no provided gender information by the user and they therefore fall \n",
    "# under this class.\n",
    "user_df.loc[user_df.gender.isnull(), 'gender'] = 'n'"
   ]
  },
  {
   "cell_type": "code",
   "execution_count": 13,
   "metadata": {},
   "outputs": [],
   "source": [
    "# User gender distribution analysis\n",
    "def compute_user_gender_dist(df_u):\n",
    "    user_m = df_u[df_u.gender == 'm']\n",
    "    user_f = df_u[df_u.gender == 'f']\n",
    "    user_u = df_u[df_u.gender == 'n']\n",
    "    return user_m, user_f, user_u"
   ]
  },
  {
   "cell_type": "code",
   "execution_count": 14,
   "metadata": {},
   "outputs": [
    {
     "name": "stdout",
     "output_type": "stream",
     "text": [
      "User Gender Distribution in Matrix:\n",
      "m count: 241642, 67.24475228678686%\n",
      "f count: 84930, 23.634537090889864%\n",
      "u count: 32775, 9.12071062232327%\n"
     ]
    }
   ],
   "source": [
    "user_m, user_f, user_u = compute_user_gender_dist(user_df)\n",
    "user_m_count = len(user_m)\n",
    "user_f_count = len(user_f)\n",
    "user_undef_count = len(user_u)\n",
    "user_total_count = user_m_count + user_f_count + user_undef_count\n",
    "\n",
    "# Output user gender distribution\n",
    "print('User Gender Distribution in Matrix:')\n",
    "print('m count: {}, {}%'.format(user_m_count,user_m_count*100/user_total_count))\n",
    "print('f count: {}, {}%'.format(user_f_count,user_f_count*100/user_total_count))\n",
    "print('u count: {}, {}%'.format(user_undef_count,user_undef_count*100/user_total_count))"
   ]
  },
  {
   "cell_type": "code",
   "execution_count": 15,
   "metadata": {},
   "outputs": [
    {
     "data": {
      "image/png": "[encoded data removed]",
      "text/plain": [
       "<Figure size 720x720 with 1 Axes>"
      ]
     },
     "metadata": {},
     "output_type": "display_data"
    }
   ],
   "source": [
    "# Pie chart, where the slices will be ordered and plotted counter-clockwise:\n",
    "labels = 'Male', 'Female', 'Undef'\n",
    "sizes = [user_m_count, user_f_count, user_undef_count]\n",
    "\n",
    "fig1, ax1 = plt.subplots(figsize=(10, 10))\n",
    "\n",
    "explode = (0, 0.2, 0.4) \n",
    "colors = ['#ff9999','#66b3ff','#99ff99','#ffcc99']\n",
    "\n",
    "patches, texts, autotexts = ax1.pie(sizes, explode = explode, labels=labels, colors = colors, autopct='%1.1f%%',\n",
    "        shadow=True, startangle=40)\n",
    "\n",
    "plt.legend(patches, labels, loc=\"best\")\n",
    "\n",
    "ax1.axis('equal')  # Equal aspect ratio ensures that pie is drawn as a circle.\n",
    "\n",
    "for text in texts:\n",
    "    text.set_color('grey')\n",
    "for autotext in autotexts:\n",
    "    autotext.set_color('grey')\n",
    "\n",
    "plt.rcParams[\"figure.figsize\"] = (2,2)\n",
    "plt.title('LFM-1b Gender Distribution for Users')\n",
    "\n",
    "plt.show()"
   ]
  },
  {
   "cell_type": "markdown",
   "metadata": {},
   "source": [
    "## 4. LastFM360k-Le75 Gender Analysis: Users With Le history which consists of >= 75% of artists with known gender\n",
    "\n",
    "From this matrix we compute ```Lastfm360k_le75.csv```, a csv file containing all user artist listening events for users which have a listening history for which over 75% have known gender. The code for this computation is left out of this notebook as it is quite computationally time consuming."
   ]
  },
  {
   "cell_type": "code",
   "execution_count": 22,
   "metadata": {},
   "outputs": [
    {
     "data": {
      "text/html": [
       "<div>\n",
       "<style scoped>\n",
       "    .dataframe tbody tr th:only-of-type {\n",
       "        vertical-align: middle;\n",
       "    }\n",
       "\n",
       "    .dataframe tbody tr th {\n",
       "        vertical-align: top;\n",
       "    }\n",
       "\n",
       "    .dataframe thead th {\n",
       "        text-align: right;\n",
       "    }\n",
       "</style>\n",
       "<table border=\"1\" class=\"dataframe\">\n",
       "  <thead>\n",
       "    <tr style=\"text-align: right;\">\n",
       "      <th></th>\n",
       "      <th>userid</th>\n",
       "      <th>artistid</th>\n",
       "      <th>playcount</th>\n",
       "    </tr>\n",
       "  </thead>\n",
       "  <tbody>\n",
       "    <tr>\n",
       "      <th>0</th>\n",
       "      <td>0</td>\n",
       "      <td>0</td>\n",
       "      <td>2137</td>\n",
       "    </tr>\n",
       "    <tr>\n",
       "      <th>1</th>\n",
       "      <td>0</td>\n",
       "      <td>1</td>\n",
       "      <td>1099</td>\n",
       "    </tr>\n",
       "    <tr>\n",
       "      <th>2</th>\n",
       "      <td>0</td>\n",
       "      <td>2</td>\n",
       "      <td>897</td>\n",
       "    </tr>\n",
       "    <tr>\n",
       "      <th>3</th>\n",
       "      <td>0</td>\n",
       "      <td>3</td>\n",
       "      <td>717</td>\n",
       "    </tr>\n",
       "    <tr>\n",
       "      <th>4</th>\n",
       "      <td>0</td>\n",
       "      <td>4</td>\n",
       "      <td>706</td>\n",
       "    </tr>\n",
       "  </tbody>\n",
       "</table>\n",
       "</div>"
      ],
      "text/plain": [
       "   userid  artistid  playcount\n",
       "0       0         0       2137\n",
       "1       0         1       1099\n",
       "2       0         2        897\n",
       "3       0         3        717\n",
       "4       0         4        706"
      ]
     },
     "execution_count": 22,
     "metadata": {},
     "output_type": "execute_result"
    }
   ],
   "source": [
    "# read user events (with over 75% gender) into df\n",
    "df_events = pd.read_csv(lastfm360k_le75_path)\n",
    "df_events.head()"
   ]
  },
  {
   "cell_type": "code",
   "execution_count": 23,
   "metadata": {},
   "outputs": [
    {
     "name": "stdout",
     "output_type": "stream",
     "text": [
      "max play count: 419157\n",
      "min play count: 0\n",
      "average play count 217.60114299254005\n",
      "std play count 615.2934133406876\n"
     ]
    }
   ],
   "source": [
    "print('max play count:', df_events.playcount.max())\n",
    "print('min play count:', df_events.playcount.min())\n",
    "print('average play count', df_events.playcount.mean())\n",
    "print('std play count', df_events.playcount.std())"
   ]
  },
  {
   "cell_type": "code",
   "execution_count": 20,
   "metadata": {},
   "outputs": [
    {
     "name": "stdout",
     "output_type": "stream",
     "text": [
      "total user-artist interactions: 6541600\n",
      "number of artists > 10000: 0.00031689494924789043\n"
     ]
    }
   ],
   "source": [
    "print('total user-artist interactions:', len(df_events))\n",
    "print('number of artists > 10000:', len(df_events[df_events.playcount > 10000]) /  len(df_events))"
   ]
  },
  {
   "cell_type": "markdown",
   "metadata": {},
   "source": [
    "We observe that there a very small number of users which have a high number of listening events > 10000. To compute what may define a recommendation as relevent (i.e. what play count can be considered as a relevent recommendation in evaluations) we first remove outliers in the data by computing the IQR."
   ]
  },
  {
   "cell_type": "code",
   "execution_count": 21,
   "metadata": {},
   "outputs": [
    {
     "data": {
      "text/html": [
       "<div>\n",
       "<style scoped>\n",
       "    .dataframe tbody tr th:only-of-type {\n",
       "        vertical-align: middle;\n",
       "    }\n",
       "\n",
       "    .dataframe tbody tr th {\n",
       "        vertical-align: top;\n",
       "    }\n",
       "\n",
       "    .dataframe thead th {\n",
       "        text-align: right;\n",
       "    }\n",
       "</style>\n",
       "<table border=\"1\" class=\"dataframe\">\n",
       "  <thead>\n",
       "    <tr style=\"text-align: right;\">\n",
       "      <th></th>\n",
       "      <th>userid</th>\n",
       "      <th>artistid</th>\n",
       "      <th>playcount</th>\n",
       "    </tr>\n",
       "  </thead>\n",
       "  <tbody>\n",
       "    <tr>\n",
       "      <th>3601570</th>\n",
       "      <td>197654</td>\n",
       "      <td>926</td>\n",
       "      <td>419157</td>\n",
       "    </tr>\n",
       "    <tr>\n",
       "      <th>533911</th>\n",
       "      <td>29430</td>\n",
       "      <td>7060</td>\n",
       "      <td>288375</td>\n",
       "    </tr>\n",
       "    <tr>\n",
       "      <th>4769780</th>\n",
       "      <td>261905</td>\n",
       "      <td>355</td>\n",
       "      <td>242328</td>\n",
       "    </tr>\n",
       "    <tr>\n",
       "      <th>6198363</th>\n",
       "      <td>340377</td>\n",
       "      <td>4164</td>\n",
       "      <td>219355</td>\n",
       "    </tr>\n",
       "    <tr>\n",
       "      <th>1313953</th>\n",
       "      <td>72308</td>\n",
       "      <td>408</td>\n",
       "      <td>186028</td>\n",
       "    </tr>\n",
       "    <tr>\n",
       "      <th>...</th>\n",
       "      <td>...</td>\n",
       "      <td>...</td>\n",
       "      <td>...</td>\n",
       "    </tr>\n",
       "    <tr>\n",
       "      <th>5746172</th>\n",
       "      <td>315650</td>\n",
       "      <td>748</td>\n",
       "      <td>1</td>\n",
       "    </tr>\n",
       "    <tr>\n",
       "      <th>5746173</th>\n",
       "      <td>315650</td>\n",
       "      <td>16013</td>\n",
       "      <td>1</td>\n",
       "    </tr>\n",
       "    <tr>\n",
       "      <th>5746174</th>\n",
       "      <td>315650</td>\n",
       "      <td>33226</td>\n",
       "      <td>1</td>\n",
       "    </tr>\n",
       "    <tr>\n",
       "      <th>1433091</th>\n",
       "      <td>78875</td>\n",
       "      <td>6019</td>\n",
       "      <td>1</td>\n",
       "    </tr>\n",
       "    <tr>\n",
       "      <th>5215595</th>\n",
       "      <td>286050</td>\n",
       "      <td>235564</td>\n",
       "      <td>0</td>\n",
       "    </tr>\n",
       "  </tbody>\n",
       "</table>\n",
       "<p>6541600 rows × 3 columns</p>\n",
       "</div>"
      ],
      "text/plain": [
       "         userid  artistid  playcount\n",
       "3601570  197654       926     419157\n",
       "533911    29430      7060     288375\n",
       "4769780  261905       355     242328\n",
       "6198363  340377      4164     219355\n",
       "1313953   72308       408     186028\n",
       "...         ...       ...        ...\n",
       "5746172  315650       748          1\n",
       "5746173  315650     16013          1\n",
       "5746174  315650     33226          1\n",
       "1433091   78875      6019          1\n",
       "5215595  286050    235564          0\n",
       "\n",
       "[6541600 rows x 3 columns]"
      ]
     },
     "execution_count": 21,
     "metadata": {},
     "output_type": "execute_result"
    }
   ],
   "source": [
    "df_events_ordered = df_events.sort_values(by=['playcount'], ascending=False)\n",
    "df_events_ordered "
   ]
  },
  {
   "cell_type": "code",
   "execution_count": 22,
   "metadata": {},
   "outputs": [
    {
     "name": "stdout",
     "output_type": "stream",
     "text": [
      "Quartile 1 playcounts: 33.0\n",
      "Quartile 2 playcounts: 228.0\n",
      "IQR playcounts: 195.0\n"
     ]
    }
   ],
   "source": [
    "Q1 = df_events.playcount.quantile(0.25)\n",
    "Q3 = df_events.playcount.quantile(0.75)\n",
    "IQR = Q3 - Q1\n",
    "print('Quartile 1 playcounts:', Q1)\n",
    "print('Quartile 2 playcounts:', Q3)\n",
    "print('IQR playcounts:', IQR)"
   ]
  },
  {
   "cell_type": "code",
   "execution_count": 25,
   "metadata": {},
   "outputs": [],
   "source": [
    "filter_outliers = df_events[((df_events.playcount < (Q1 - 1.5 * IQR)) == False) & ((df_events.playcount > (Q3 + 1.5 * IQR)) == False)]"
   ]
  },
  {
   "cell_type": "code",
   "execution_count": 26,
   "metadata": {},
   "outputs": [
    {
     "name": "stdout",
     "output_type": "stream",
     "text": [
      "before filtering df length: 6541600\n",
      "after filtering df length: 5953718\n"
     ]
    }
   ],
   "source": [
    "print('before filtering df length:', len(df_events))\n",
    "print('after filtering df length:', len(filter_outliers))"
   ]
  },
  {
   "cell_type": "code",
   "execution_count": 27,
   "metadata": {},
   "outputs": [
    {
     "name": "stdout",
     "output_type": "stream",
     "text": [
      "max play count: 520\n",
      "min play count: 0\n",
      "average play count 121.51305772292204\n",
      "std play count 119.38874337756037\n"
     ]
    }
   ],
   "source": [
    "print('max play count:', filter_outliers.playcount.max())\n",
    "print('min play count:', filter_outliers.playcount.min())\n",
    "print('average play count', filter_outliers.playcount.mean())\n",
    "print('std play count', filter_outliers.playcount.std())"
   ]
  },
  {
   "cell_type": "markdown",
   "metadata": {},
   "source": [
    "We now see that the average playcount drops dramatically to aproximately 4. Hence, we consider playcounts >= 4 as the relevent when evaluating filtering methodologies. "
   ]
  },
  {
   "cell_type": "code",
   "execution_count": 28,
   "metadata": {},
   "outputs": [
    {
     "data": {
      "text/plain": [
       "242.17950849996214"
      ]
     },
     "execution_count": 28,
     "metadata": {},
     "output_type": "execute_result"
    }
   ],
   "source": [
    "import math\n",
    "# we will use a logarthmic scale of listening counts to symbolise that listening events >= 70 will be 'relevent' \n",
    "math.log(121,1.02)"
   ]
  },
  {
   "cell_type": "markdown",
   "metadata": {},
   "source": [
    "### User gender distribution analysis"
   ]
  },
  {
   "cell_type": "code",
   "execution_count": 24,
   "metadata": {},
   "outputs": [
    {
     "data": {
      "text/html": [
       "<div>\n",
       "<style scoped>\n",
       "    .dataframe tbody tr th:only-of-type {\n",
       "        vertical-align: middle;\n",
       "    }\n",
       "\n",
       "    .dataframe tbody tr th {\n",
       "        vertical-align: top;\n",
       "    }\n",
       "\n",
       "    .dataframe thead th {\n",
       "        text-align: right;\n",
       "    }\n",
       "</style>\n",
       "<table border=\"1\" class=\"dataframe\">\n",
       "  <thead>\n",
       "    <tr style=\"text-align: right;\">\n",
       "      <th></th>\n",
       "      <th>user_id</th>\n",
       "      <th>country</th>\n",
       "      <th>age</th>\n",
       "      <th>gender</th>\n",
       "      <th>playcount</th>\n",
       "      <th>user_sha1</th>\n",
       "    </tr>\n",
       "  </thead>\n",
       "  <tbody>\n",
       "    <tr>\n",
       "      <th>0</th>\n",
       "      <td>351272</td>\n",
       "      <td>Sweden</td>\n",
       "      <td>25.0</td>\n",
       "      <td>f</td>\n",
       "      <td>6175</td>\n",
       "      <td>fa40b43298ba3f8aa52e8e8863faf2e2171e0b5d</td>\n",
       "    </tr>\n",
       "    <tr>\n",
       "      <th>1</th>\n",
       "      <td>293958</td>\n",
       "      <td>United States</td>\n",
       "      <td>30.0</td>\n",
       "      <td>m</td>\n",
       "      <td>1590</td>\n",
       "      <td>d1867cbda35e0d48e9a8390d9f5e079c9d99ea96</td>\n",
       "    </tr>\n",
       "    <tr>\n",
       "      <th>2</th>\n",
       "      <td>3567</td>\n",
       "      <td>Netherlands</td>\n",
       "      <td>24.0</td>\n",
       "      <td>m</td>\n",
       "      <td>7644</td>\n",
       "      <td>02871cd952d607ba69b64e2e107773012c708113</td>\n",
       "    </tr>\n",
       "    <tr>\n",
       "      <th>3</th>\n",
       "      <td>12919</td>\n",
       "      <td>United States</td>\n",
       "      <td>22.0</td>\n",
       "      <td>m</td>\n",
       "      <td>29195</td>\n",
       "      <td>0938eb3d1b449b480c4e2431c457f6ead7063a34</td>\n",
       "    </tr>\n",
       "    <tr>\n",
       "      <th>4</th>\n",
       "      <td>320912</td>\n",
       "      <td>United States</td>\n",
       "      <td>NaN</td>\n",
       "      <td>f</td>\n",
       "      <td>7521</td>\n",
       "      <td>e4c6b36e65db3d48474dd538fe74d2dbb5a2e79e</td>\n",
       "    </tr>\n",
       "    <tr>\n",
       "      <th>...</th>\n",
       "      <td>...</td>\n",
       "      <td>...</td>\n",
       "      <td>...</td>\n",
       "      <td>...</td>\n",
       "      <td>...</td>\n",
       "      <td>...</td>\n",
       "    </tr>\n",
       "    <tr>\n",
       "      <th>359342</th>\n",
       "      <td>13583</td>\n",
       "      <td>Poland</td>\n",
       "      <td>NaN</td>\n",
       "      <td>m</td>\n",
       "      <td>591</td>\n",
       "      <td>09b6316af9d58716f15cf116d04fc6518d836870</td>\n",
       "    </tr>\n",
       "    <tr>\n",
       "      <th>359343</th>\n",
       "      <td>197439</td>\n",
       "      <td>United Kingdom</td>\n",
       "      <td>21.0</td>\n",
       "      <td>m</td>\n",
       "      <td>16626</td>\n",
       "      <td>8cda6be42a1c4bbee3c53d67f892177f8bbf70d2</td>\n",
       "    </tr>\n",
       "    <tr>\n",
       "      <th>359344</th>\n",
       "      <td>79477</td>\n",
       "      <td>Germany</td>\n",
       "      <td>29.0</td>\n",
       "      <td>m</td>\n",
       "      <td>6002</td>\n",
       "      <td>38d0e2ceb19f10d9b33b9842ebcf26b7f173bbb5</td>\n",
       "    </tr>\n",
       "    <tr>\n",
       "      <th>359345</th>\n",
       "      <td>133691</td>\n",
       "      <td>Spain</td>\n",
       "      <td>29.0</td>\n",
       "      <td>m</td>\n",
       "      <td>1229</td>\n",
       "      <td>5f6aa02a0ace0435fd21ed94f8568309f300cc84</td>\n",
       "    </tr>\n",
       "    <tr>\n",
       "      <th>359346</th>\n",
       "      <td>336342</td>\n",
       "      <td>Austria</td>\n",
       "      <td>NaN</td>\n",
       "      <td>m</td>\n",
       "      <td>3281</td>\n",
       "      <td>efae41dce5c4bb65512c72afbb5bef8401612edc</td>\n",
       "    </tr>\n",
       "  </tbody>\n",
       "</table>\n",
       "<p>359347 rows × 6 columns</p>\n",
       "</div>"
      ],
      "text/plain": [
       "        user_id         country   age gender  playcount  \\\n",
       "0        351272          Sweden  25.0      f       6175   \n",
       "1        293958   United States  30.0      m       1590   \n",
       "2          3567     Netherlands  24.0      m       7644   \n",
       "3         12919   United States  22.0      m      29195   \n",
       "4        320912   United States   NaN      f       7521   \n",
       "...         ...             ...   ...    ...        ...   \n",
       "359342    13583          Poland   NaN      m        591   \n",
       "359343   197439  United Kingdom  21.0      m      16626   \n",
       "359344    79477         Germany  29.0      m       6002   \n",
       "359345   133691           Spain  29.0      m       1229   \n",
       "359346   336342         Austria   NaN      m       3281   \n",
       "\n",
       "                                       user_sha1  \n",
       "0       fa40b43298ba3f8aa52e8e8863faf2e2171e0b5d  \n",
       "1       d1867cbda35e0d48e9a8390d9f5e079c9d99ea96  \n",
       "2       02871cd952d607ba69b64e2e107773012c708113  \n",
       "3       0938eb3d1b449b480c4e2431c457f6ead7063a34  \n",
       "4       e4c6b36e65db3d48474dd538fe74d2dbb5a2e79e  \n",
       "...                                          ...  \n",
       "359342  09b6316af9d58716f15cf116d04fc6518d836870  \n",
       "359343  8cda6be42a1c4bbee3c53d67f892177f8bbf70d2  \n",
       "359344  38d0e2ceb19f10d9b33b9842ebcf26b7f173bbb5  \n",
       "359345  5f6aa02a0ace0435fd21ed94f8568309f300cc84  \n",
       "359346  efae41dce5c4bb65512c72afbb5bef8401612edc  \n",
       "\n",
       "[359347 rows x 6 columns]"
      ]
     },
     "execution_count": 24,
     "metadata": {},
     "output_type": "execute_result"
    }
   ],
   "source": [
    "user_df"
   ]
  },
  {
   "cell_type": "code",
   "execution_count": 25,
   "metadata": {},
   "outputs": [
    {
     "name": "stdout",
     "output_type": "stream",
     "text": [
      "User Gender Distribution in LFM-1b-Le75 Matrix:\n",
      "m count: 94385, 68.8152992555976%\n",
      "f count: 30792, 22.450184824689956%\n",
      "u count: 11980, 8.734515919712447%\n"
     ]
    }
   ],
   "source": [
    "# Gender distribution analysis of users in the le75 matrix.\n",
    "user_ids_knownlh = df_events['userid'].unique()  #get all unique user ids from LFM-1b-Le75\n",
    "user_mat_le75_df = user_df[user_df.user_id.isin(user_ids_knownlh)]\n",
    "user_m, user_f, user_u = compute_user_gender_dist(user_mat_le75_df)\n",
    "\n",
    "user_m_count = len(user_m)\n",
    "user_f_count = len(user_f)\n",
    "user_undef_count = len(user_u)\n",
    "user_total_count = user_m_count + user_f_count + user_undef_count\n",
    "\n",
    "print('User Gender Distribution in LFM-1b-Le75 Matrix:')\n",
    "print('m count: {}, {}%'.format(user_m_count,user_m_count*100/user_total_count))\n",
    "print('f count: {}, {}%'.format(user_f_count,user_f_count*100/user_total_count))\n",
    "print('u count: {}, {}%'.format(user_undef_count,user_undef_count*100/user_total_count))"
   ]
  },
  {
   "cell_type": "markdown",
   "metadata": {},
   "source": [
    "### Artist gender distribution analysis"
   ]
  },
  {
   "cell_type": "code",
   "execution_count": 27,
   "metadata": {},
   "outputs": [
    {
     "name": "stdout",
     "output_type": "stream",
     "text": [
      "Artist Gender Distribution in Matrix\n",
      "m count: 52022, 25.869236583522298%\n",
      "f count: 11134, 5.5366591080876795%\n",
      "u count: 137864, 68.55631141345427%\n",
      "o count: 76, 0.03779289493575208%\n"
     ]
    }
   ],
   "source": [
    "# Gender distribution anlaysis of artists in the le75 matrix\n",
    "artist_ids_flat = df_events['artistid'].unique()\n",
    "artist_mat_le75_df = artist_gender[artist_gender.id.isin(artist_ids_flat)]\n",
    "\n",
    "# merge na class to become other class\n",
    "artist_mat_le75_df.loc[artist_mat_le75_df['identified_gender'] == 4, 'identified_gender'] = 3\n",
    "\n",
    "artist_u, artist_m, artist_f, artist_o, artist_na = compute_artist_gender_dist(artist_mat_le75_df)\n",
    "\n",
    "artist_m_count = len(artist_m)\n",
    "artist_f_count = len(artist_f)\n",
    "artist_undef_count = len(artist_u)\n",
    "artist_other_count = len(artist_o)\n",
    "artist_total_count = artist_m_count + artist_f_count + artist_undef_count + artist_other_count \n",
    "\n",
    "# Output artist gender distribution\n",
    "print('Artist Gender Distribution in Matrix')\n",
    "print('m count: {}, {}%'.format(artist_m_count,artist_m_count*100/artist_total_count))\n",
    "print('f count: {}, {}%'.format(artist_f_count,artist_f_count*100/artist_total_count))\n",
    "print('u count: {}, {}%'.format(artist_undef_count,artist_undef_count*100/artist_total_count))\n",
    "print('o count: {}, {}%'.format(artist_other_count,artist_other_count*100/artist_total_count))"
   ]
  },
  {
   "cell_type": "code",
   "execution_count": 28,
   "metadata": {},
   "outputs": [],
   "source": [
    "# filter to just contain user of m and f gender and artists of m and f gender\n",
    "\n",
    "m_user_ids_sample = user_m['user_id'].values\n",
    "f_user_ids_sample = user_f['user_id'].values\n",
    "users_mf = [y for x in [m_user_ids_sample, f_user_ids_sample] for y in x] #male and female users\n",
    "\n",
    "male_artist_ids = artist_m['id'].unique()\n",
    "female_artist_ids = artist_f['id'].unique()\n",
    "artist_sample = [y for x in [male_artist_ids, female_artist_ids] for y in x]\n",
    "\n",
    "final_le_df = df_events[(df_events.userid.isin(users_mf) & (df_events.artistid.isin(artist_sample)))]"
   ]
  },
  {
   "cell_type": "code",
   "execution_count": 33,
   "metadata": {},
   "outputs": [],
   "source": [
    "# Analyse our gender dists after updating the manual annotations in the df\n",
    "artist_mat_le75_df_update = artist_mat_le75_df[artist_mat_le75_df.id.isin(final_le_df.artistid.unique())]\n",
    "user_mat_le75_df_update = user_mat_le75_df[user_mat_le75_df.user_id.isin(final_le_df.userid.unique())]\n",
    "\n",
    "# Gender distribution analysis\n",
    "artist_u, artist_m, artist_f, artist_o, artist_na = compute_artist_gender_dist(artist_mat_le75_df_update)\n",
    "user_m, user_f, user_u = compute_user_gender_dist(user_mat_le75_df_update)"
   ]
  },
  {
   "cell_type": "code",
   "execution_count": 36,
   "metadata": {},
   "outputs": [],
   "source": [
    "f_pref_maleuser = []\n",
    "for u_m in user_m.user_id.unique():\n",
    "    df = final_le_df[final_le_df.userid == u_m]\n",
    "    item_len = len(df)\n",
    "    f_items = df[df.artistid.isin(list(artist_f.id))]\n",
    "    f_pref_maleuser.append(len(f_items) / item_len)"
   ]
  },
  {
   "cell_type": "code",
   "execution_count": 37,
   "metadata": {},
   "outputs": [],
   "source": [
    "m_pref_maleuser = []\n",
    "for u_m in user_m.user_id.unique():\n",
    "    df = final_le_df[final_le_df.userid == u_m]\n",
    "    item_len = len(df)\n",
    "    m_items = df[df.artistid.isin(list(artist_m.id))]\n",
    "    m_pref_maleuser.append(len(m_items) / item_len)"
   ]
  },
  {
   "cell_type": "code",
   "execution_count": 38,
   "metadata": {},
   "outputs": [],
   "source": [
    "f_pref_femaleuser = []\n",
    "for u_f in user_f.user_id.unique():\n",
    "    df = final_le_df[final_le_df.userid == u_f]\n",
    "    item_len = len(df)\n",
    "    f_items = df[df.artistid.isin(list(artist_f.id))]\n",
    "    f_pref_femaleuser.append(len(f_items) / item_len)"
   ]
  },
  {
   "cell_type": "code",
   "execution_count": 39,
   "metadata": {},
   "outputs": [],
   "source": [
    "m_pref_femaleuser = []\n",
    "for u_f in user_f.user_id.unique():\n",
    "    df = final_le_df[final_le_df.userid == u_f]\n",
    "    item_len = len(df)\n",
    "    m_items = df[df.artistid.isin(list(artist_m.id))]\n",
    "    m_pref_femaleuser.append(len(m_items) / item_len)"
   ]
  },
  {
   "cell_type": "code",
   "execution_count": 41,
   "metadata": {},
   "outputs": [
    {
     "data": {
      "image/png": "[encoded data removed]",
      "text/plain": [
       "<Figure size 720x360 with 1 Axes>"
      ]
     },
     "metadata": {
      "needs_background": "light"
     },
     "output_type": "display_data"
    }
   ],
   "source": [
    "%matplotlib inline\n",
    "plt.rcParams[\"figure.figsize\"] = [10, 5]\n",
    "\n",
    "plt.figure()\n",
    "plt.title('Male user preference ratio distribution')\n",
    "plt.xlabel('Male users')\n",
    "plt.ylabel('Pref ratio')\n",
    "\n",
    "plt.axhline(y=0.8, color='black', linestyle='--', label='0.8 - high pref ratio')\n",
    "plt.plot(sorted(f_pref_maleuser), label='Female pref ratio')\n",
    "plt.plot(sorted(m_pref_maleuser), label='Male pref ratio')\n",
    "plt.legend(loc=(0.8,0.02))\n",
    "plt.grid(linestyle=':', linewidth='0.5', color='black')"
   ]
  },
  {
   "cell_type": "code",
   "execution_count": 42,
   "metadata": {},
   "outputs": [
    {
     "data": {
      "image/png": "[encoded data removed]",
      "text/plain": [
       "<Figure size 720x360 with 1 Axes>"
      ]
     },
     "metadata": {
      "needs_background": "light"
     },
     "output_type": "display_data"
    }
   ],
   "source": [
    "%matplotlib inline\n",
    "plt.rcParams[\"figure.figsize\"] = [10, 5]\n",
    "\n",
    "plt.figure()\n",
    "plt.title('Female user preference ratio distribution')\n",
    "plt.xlabel('Female users')\n",
    "plt.ylabel('Pref ratio')\n",
    "\n",
    "plt.axhline(y=0.8, color='black', linestyle='--', label='0.8 - high pref ratio')\n",
    "plt.plot(sorted(f_pref_femaleuser), label='Female pref ratio')\n",
    "plt.plot(sorted(m_pref_femaleuser), label='Male pref ratio')\n",
    "plt.legend(loc=(0.8,0.02))\n",
    "plt.grid(linestyle=':', linewidth='0.5', color='black')"
   ]
  },
  {
   "cell_type": "code",
   "execution_count": 29,
   "metadata": {},
   "outputs": [
    {
     "name": "stdout",
     "output_type": "stream",
     "text": [
      "Dimentionality of final matrix: 125142 - 60980\n"
     ]
    }
   ],
   "source": [
    "user_dimension = len(final_le_df.userid.unique())\n",
    "artist_dimension = len(final_le_df.artistid.unique())\n",
    "print('Dimentionality of final matrix: {} - {}'.format(user_dimension, artist_dimension) )"
   ]
  },
  {
   "cell_type": "markdown",
   "metadata": {},
   "source": [
    "### Write both user and artist dfs to csv files"
   ]
  },
  {
   "cell_type": "code",
   "execution_count": 30,
   "metadata": {},
   "outputs": [],
   "source": [
    "final_le_df.to_csv(lastfm360k_le75_filtered_mf_path, index = False)"
   ]
  },
  {
   "cell_type": "code",
   "execution_count": 37,
   "metadata": {},
   "outputs": [],
   "source": [
    "# write our updated user and artist matrix to csv files to be used in subsequent experiments\n",
    "artist_mat_le75_df.to_csv(lastfm360k_le75_artists_path, index = False)\n",
    "user_mat_le75_df.to_csv(lastfm360k_le75_users_path, index = False)"
   ]
  },
  {
   "cell_type": "markdown",
   "metadata": {},
   "source": [
    "### Analysis of of gender distributions in the longtail"
   ]
  },
  {
   "cell_type": "code",
   "execution_count": 63,
   "metadata": {},
   "outputs": [],
   "source": [
    "# Compute artists which are in the longtail\n",
    "artist_unique_users = final_le_df['artistid'].value_counts()\n",
    "artist_playcounts = final_le_df[['artistid','playcount']].groupby(['artistid']).mean()\n",
    "combined_df = pd.concat([artist_unique_users , artist_playcounts], axis=1)\n",
    "    \n",
    "combined_df.columns = ['user_count', 'avg_playcount']\n",
    "combined_df['popularity'] = combined_df['user_count']*combined_df['avg_playcount']\n",
    "combined_df = combined_df.sort_values(by=['popularity'])\n",
    "artists = combined_df.index.values.tolist()\n",
    "slice_i = int(len(artists) * 0.8) #consider 80% as the longtail\n",
    "lt_artists = artists[:slice_i]\n",
    "th_artists = artists[slice_i:]"
   ]
  },
  {
   "cell_type": "code",
   "execution_count": 69,
   "metadata": {},
   "outputs": [
    {
     "name": "stdout",
     "output_type": "stream",
     "text": [
      "male top head artists 10532 / 86.36326363263633%\n",
      "female top head artists 1663 / 13.636736367363673%\n"
     ]
    }
   ],
   "source": [
    "th_artists_df = artist_mat_le75_df[artist_mat_le75_df.id.isin(th_artists)]\n",
    "th_artist_u, th_artist_m, th_artist_f, th_artist_o, th_artist_na = compute_artist_gender_dist(th_artists_df)\n",
    "#th_artist_f\n",
    "total_a = len(th_artist_m) + len(th_artist_f)\n",
    "print('male top head artists {} / {}%'.format(len(th_artist_m),(len(th_artist_m)*100)/total_a))\n",
    "print('female top head artists {} / {}%'.format(len(th_artist_f),(len(th_artist_f)*100)/total_a))"
   ]
  },
  {
   "cell_type": "code",
   "execution_count": 70,
   "metadata": {},
   "outputs": [
    {
     "name": "stdout",
     "output_type": "stream",
     "text": [
      "male long tail artists 39776 / 81.54161541615416%\n",
      "female long tail artists 9004 / 18.458384583845838%\n"
     ]
    }
   ],
   "source": [
    "longt_artists = artist_mat_le75_df[artist_mat_le75_df.id.isin(lt_artists)]\n",
    "lt_artist_u, lt_artist_m, lt_artist_f, lt_artist_o, lt_artist_na = compute_artist_gender_dist(longt_artists)\n",
    "total_a = len(lt_artist_m) + len(lt_artist_f)\n",
    "\n",
    "print('male long tail artists {} / {}%'.format(len(lt_artist_m),(len(lt_artist_m)*100)/total_a))\n",
    "print('female long tail artists {} / {}%'.format(len(lt_artist_f),(len(lt_artist_f)*100)/total_a))"
   ]
  },
  {
   "cell_type": "markdown",
   "metadata": {},
   "source": [
    "### Analaysis of gender distribution of most popular artists"
   ]
  },
  {
   "cell_type": "code",
   "execution_count": 30,
   "metadata": {},
   "outputs": [],
   "source": [
    "most_popular_artists_df = df_events[['artistid','playcount']].groupby('artistid').sum()"
   ]
  },
  {
   "cell_type": "code",
   "execution_count": 31,
   "metadata": {
    "scrolled": false
   },
   "outputs": [],
   "source": [
    "most_popular_artists_df = most_popular_artists_df.sort_values(by=['playcount'], ascending=False)\n",
    "top100_artist_ids = most_popular_artists_df.index[:1000]"
   ]
  },
  {
   "cell_type": "code",
   "execution_count": 32,
   "metadata": {},
   "outputs": [],
   "source": [
    "most_popular_artists_df['artistid'] = most_popular_artists_df.index"
   ]
  },
  {
   "cell_type": "code",
   "execution_count": 33,
   "metadata": {},
   "outputs": [],
   "source": [
    "top100_artists = artist_mat_le75_df[artist_mat_le75_df.id.isin(top100_artist_ids)]"
   ]
  },
  {
   "cell_type": "code",
   "execution_count": 34,
   "metadata": {},
   "outputs": [
    {
     "name": "stdout",
     "output_type": "stream",
     "text": [
      "Artist Gender Distribution in Matrix\n",
      "m count: 700, 70.0%\n",
      "f count: 52, 5.2%\n",
      "u count: 248, 24.8%\n",
      "o count: 0, 0.0%\n"
     ]
    }
   ],
   "source": [
    "# Gender distribution analysis\n",
    "artist_u, artist_m, artist_f, artist_o, artist_na = compute_artist_gender_dist(top100_artists)\n",
    "\n",
    "artist_m_count = len(artist_m)\n",
    "artist_f_count = len(artist_f)\n",
    "artist_undef_count = len(artist_u)\n",
    "artist_other_count = len(artist_o)\n",
    "artist_total_count = artist_m_count + artist_f_count + artist_undef_count + artist_other_count \n",
    "\n",
    "# Output artist gender distribution\n",
    "print('Artist Gender Distribution in Matrix')\n",
    "print('m count: {}, {}%'.format(artist_m_count,artist_m_count*100/artist_total_count))\n",
    "print('f count: {}, {}%'.format(artist_f_count,artist_f_count*100/artist_total_count))\n",
    "print('u count: {}, {}%'.format(artist_undef_count,artist_undef_count*100/artist_total_count))\n",
    "print('o count: {}, {}%'.format(artist_other_count,artist_other_count*100/artist_total_count))"
   ]
  },
  {
   "cell_type": "code",
   "execution_count": 36,
   "metadata": {
    "scrolled": true
   },
   "outputs": [
    {
     "data": {
      "text/html": [
       "<div>\n",
       "<style scoped>\n",
       "    .dataframe tbody tr th:only-of-type {\n",
       "        vertical-align: middle;\n",
       "    }\n",
       "\n",
       "    .dataframe tbody tr th {\n",
       "        vertical-align: top;\n",
       "    }\n",
       "\n",
       "    .dataframe thead th {\n",
       "        text-align: right;\n",
       "    }\n",
       "</style>\n",
       "<table border=\"1\" class=\"dataframe\">\n",
       "  <thead>\n",
       "    <tr style=\"text-align: right;\">\n",
       "      <th></th>\n",
       "      <th>id</th>\n",
       "      <th>artist</th>\n",
       "      <th>gender_dist</th>\n",
       "      <th>mb-id</th>\n",
       "      <th>identified_gender</th>\n",
       "      <th>playcount</th>\n",
       "    </tr>\n",
       "  </thead>\n",
       "  <tbody>\n",
       "    <tr>\n",
       "      <th>23457</th>\n",
       "      <td>217</td>\n",
       "      <td>radiohead</td>\n",
       "      <td>[0, 5, 0, 0, 0]</td>\n",
       "      <td>a74b1b7f-71a5-4011-9441-d0b5e4122711</td>\n",
       "      <td>1</td>\n",
       "      <td>6165826.0</td>\n",
       "    </tr>\n",
       "    <tr>\n",
       "      <th>104294</th>\n",
       "      <td>247</td>\n",
       "      <td>the beatles</td>\n",
       "      <td>[0, 6, 0, 0, 0]</td>\n",
       "      <td>b10bbbfc-cf9e-42e0-be17-e2c3e1d2600d</td>\n",
       "      <td>1</td>\n",
       "      <td>5406294.0</td>\n",
       "    </tr>\n",
       "    <tr>\n",
       "      <th>283457</th>\n",
       "      <td>312</td>\n",
       "      <td>in flames</td>\n",
       "      <td>[0, 13, 0, 0, 0]</td>\n",
       "      <td>31745282-b1ea-4d62-939f-226b14d68e7c</td>\n",
       "      <td>1</td>\n",
       "      <td>4924537.0</td>\n",
       "    </tr>\n",
       "    <tr>\n",
       "      <th>164829</th>\n",
       "      <td>283</td>\n",
       "      <td>metallica</td>\n",
       "      <td>[0, 8, 0, 0, 0]</td>\n",
       "      <td>65f4f0c5-ef9e-490c-aee3-909e7ae6b2ab</td>\n",
       "      <td>1</td>\n",
       "      <td>4261072.0</td>\n",
       "    </tr>\n",
       "    <tr>\n",
       "      <th>288036</th>\n",
       "      <td>277</td>\n",
       "      <td>muse</td>\n",
       "      <td>[0, 3, 0, 0, 0]</td>\n",
       "      <td>9c9f1380-2516-4fc9-a3e6-f9f61941d090</td>\n",
       "      <td>1</td>\n",
       "      <td>4175174.0</td>\n",
       "    </tr>\n",
       "    <tr>\n",
       "      <th>201266</th>\n",
       "      <td>96</td>\n",
       "      <td>death cab for cutie</td>\n",
       "      <td>[2, 4, 0, 0, 0]</td>\n",
       "      <td>0039c7ae-e1a7-4a7d-9b49-0cbc716821a6</td>\n",
       "      <td>1</td>\n",
       "      <td>3968754.0</td>\n",
       "    </tr>\n",
       "    <tr>\n",
       "      <th>58875</th>\n",
       "      <td>193</td>\n",
       "      <td>system of a down</td>\n",
       "      <td>[0, 5, 0, 0, 0]</td>\n",
       "      <td>cc0b7089-c08d-4c10-b6b0-873582c17fd6</td>\n",
       "      <td>1</td>\n",
       "      <td>3766483.0</td>\n",
       "    </tr>\n",
       "    <tr>\n",
       "      <th>81007</th>\n",
       "      <td>62</td>\n",
       "      <td>coldplay</td>\n",
       "      <td>[0, 4, 0, 0, 0]</td>\n",
       "      <td>cc197bad-dc9c-440d-a5b5-d52ba2e14234</td>\n",
       "      <td>1</td>\n",
       "      <td>3531825.0</td>\n",
       "    </tr>\n",
       "    <tr>\n",
       "      <th>214887</th>\n",
       "      <td>352</td>\n",
       "      <td>linkin park</td>\n",
       "      <td>[2, 7, 0, 0, 0]</td>\n",
       "      <td>f59c5520-5f46-4d2c-b2c4-822eabf53419</td>\n",
       "      <td>1</td>\n",
       "      <td>3416807.0</td>\n",
       "    </tr>\n",
       "    <tr>\n",
       "      <th>235599</th>\n",
       "      <td>773</td>\n",
       "      <td>nine inch nails</td>\n",
       "      <td>[5, 23, 2, 0, 0]</td>\n",
       "      <td>b7ffd2af-418f-4be2-bdd1-22f8b48613da</td>\n",
       "      <td>1</td>\n",
       "      <td>3379988.0</td>\n",
       "    </tr>\n",
       "  </tbody>\n",
       "</table>\n",
       "</div>"
      ],
      "text/plain": [
       "         id               artist       gender_dist  \\\n",
       "23457   217            radiohead   [0, 5, 0, 0, 0]   \n",
       "104294  247          the beatles   [0, 6, 0, 0, 0]   \n",
       "283457  312            in flames  [0, 13, 0, 0, 0]   \n",
       "164829  283            metallica   [0, 8, 0, 0, 0]   \n",
       "288036  277                 muse   [0, 3, 0, 0, 0]   \n",
       "201266   96  death cab for cutie   [2, 4, 0, 0, 0]   \n",
       "58875   193     system of a down   [0, 5, 0, 0, 0]   \n",
       "81007    62             coldplay   [0, 4, 0, 0, 0]   \n",
       "214887  352          linkin park   [2, 7, 0, 0, 0]   \n",
       "235599  773      nine inch nails  [5, 23, 2, 0, 0]   \n",
       "\n",
       "                                       mb-id  identified_gender  playcount  \n",
       "23457   a74b1b7f-71a5-4011-9441-d0b5e4122711                  1  6165826.0  \n",
       "104294  b10bbbfc-cf9e-42e0-be17-e2c3e1d2600d                  1  5406294.0  \n",
       "283457  31745282-b1ea-4d62-939f-226b14d68e7c                  1  4924537.0  \n",
       "164829  65f4f0c5-ef9e-490c-aee3-909e7ae6b2ab                  1  4261072.0  \n",
       "288036  9c9f1380-2516-4fc9-a3e6-f9f61941d090                  1  4175174.0  \n",
       "201266  0039c7ae-e1a7-4a7d-9b49-0cbc716821a6                  1  3968754.0  \n",
       "58875   cc0b7089-c08d-4c10-b6b0-873582c17fd6                  1  3766483.0  \n",
       "81007   cc197bad-dc9c-440d-a5b5-d52ba2e14234                  1  3531825.0  \n",
       "214887  f59c5520-5f46-4d2c-b2c4-822eabf53419                  1  3416807.0  \n",
       "235599  b7ffd2af-418f-4be2-bdd1-22f8b48613da                  1  3379988.0  "
      ]
     },
     "execution_count": 36,
     "metadata": {},
     "output_type": "execute_result"
    }
   ],
   "source": [
    "for id_a in artist_m.id.values:\n",
    "    pc = most_popular_artists_df[most_popular_artists_df.artistid == id_a].playcount.values[0]\n",
    "    artist_m.loc[artist_m['id'] == id_a, 'playcount'] = pc\n",
    "\n",
    "    \n",
    "artist_m.sort_values(by=['playcount'], ascending=False)[:10]"
   ]
  },
  {
   "cell_type": "code",
   "execution_count": 37,
   "metadata": {},
   "outputs": [
    {
     "data": {
      "text/html": [
       "<div>\n",
       "<style scoped>\n",
       "    .dataframe tbody tr th:only-of-type {\n",
       "        vertical-align: middle;\n",
       "    }\n",
       "\n",
       "    .dataframe tbody tr th {\n",
       "        vertical-align: top;\n",
       "    }\n",
       "\n",
       "    .dataframe thead th {\n",
       "        text-align: right;\n",
       "    }\n",
       "</style>\n",
       "<table border=\"1\" class=\"dataframe\">\n",
       "  <thead>\n",
       "    <tr style=\"text-align: right;\">\n",
       "      <th></th>\n",
       "      <th>id</th>\n",
       "      <th>artist</th>\n",
       "      <th>gender_dist</th>\n",
       "      <th>mb-id</th>\n",
       "      <th>identified_gender</th>\n",
       "      <th>playcount</th>\n",
       "    </tr>\n",
       "  </thead>\n",
       "  <tbody>\n",
       "    <tr>\n",
       "      <th>179791</th>\n",
       "      <td>480</td>\n",
       "      <td>tegan and sara</td>\n",
       "      <td>[0, 2, 2, 0, 0]</td>\n",
       "      <td>d13f0f47-36f9-4661-87fe-2de56f45c649</td>\n",
       "      <td>2</td>\n",
       "      <td>1407535.0</td>\n",
       "    </tr>\n",
       "    <tr>\n",
       "      <th>124761</th>\n",
       "      <td>868</td>\n",
       "      <td>mindless self indulgence</td>\n",
       "      <td>[0, 3, 3, 0, 0]</td>\n",
       "      <td>44f42386-a733-4b51-8298-fe5c807d03aa</td>\n",
       "      <td>2</td>\n",
       "      <td>1350253.0</td>\n",
       "    </tr>\n",
       "    <tr>\n",
       "      <th>168843</th>\n",
       "      <td>782</td>\n",
       "      <td>the white stripes</td>\n",
       "      <td>[0, 1, 1, 0, 0]</td>\n",
       "      <td>11ae9fbb-f3d7-4a47-936f-4c0a04d3b3b5</td>\n",
       "      <td>2</td>\n",
       "      <td>1301270.0</td>\n",
       "    </tr>\n",
       "    <tr>\n",
       "      <th>239409</th>\n",
       "      <td>121</td>\n",
       "      <td>björk</td>\n",
       "      <td>[0, 0, 1, 0, 0]</td>\n",
       "      <td>87c5dedd-371d-4a53-9f7f-80522fb7f3cb</td>\n",
       "      <td>2</td>\n",
       "      <td>1257140.0</td>\n",
       "    </tr>\n",
       "    <tr>\n",
       "      <th>157787</th>\n",
       "      <td>944</td>\n",
       "      <td>avril lavigne</td>\n",
       "      <td>[0, 0, 1, 0, 0]</td>\n",
       "      <td>0103c1cc-4a09-4a5d-a344-56ad99a77193</td>\n",
       "      <td>2</td>\n",
       "      <td>1133039.0</td>\n",
       "    </tr>\n",
       "    <tr>\n",
       "      <th>18752</th>\n",
       "      <td>355</td>\n",
       "      <td>madonna</td>\n",
       "      <td>[0, 0, 1, 0, 0]</td>\n",
       "      <td>79239441-bfd5-4981-a70c-55c3f15c1287</td>\n",
       "      <td>2</td>\n",
       "      <td>1106060.0</td>\n",
       "    </tr>\n",
       "    <tr>\n",
       "      <th>177873</th>\n",
       "      <td>550</td>\n",
       "      <td>britney spears</td>\n",
       "      <td>[0, 0, 1, 0, 0]</td>\n",
       "      <td>45a663b5-b1cb-4a91-bff6-2bef7bbfdd76</td>\n",
       "      <td>2</td>\n",
       "      <td>935535.0</td>\n",
       "    </tr>\n",
       "    <tr>\n",
       "      <th>101810</th>\n",
       "      <td>519</td>\n",
       "      <td>regina spektor</td>\n",
       "      <td>[0, 0, 1, 0, 0]</td>\n",
       "      <td>fbb375f9-48bb-4635-824e-4120273b3ba7</td>\n",
       "      <td>2</td>\n",
       "      <td>883801.0</td>\n",
       "    </tr>\n",
       "    <tr>\n",
       "      <th>167421</th>\n",
       "      <td>971</td>\n",
       "      <td>feist</td>\n",
       "      <td>[0, 0, 1, 0, 0]</td>\n",
       "      <td>a670e05a-cea8-4b37-bce9-d82daf1a0fa4</td>\n",
       "      <td>2</td>\n",
       "      <td>848077.0</td>\n",
       "    </tr>\n",
       "    <tr>\n",
       "      <th>33297</th>\n",
       "      <td>798</td>\n",
       "      <td>cat power</td>\n",
       "      <td>[0, 0, 1, 0, 0]</td>\n",
       "      <td>05755bf1-380c-487f-983f-d1a02401fa28</td>\n",
       "      <td>2</td>\n",
       "      <td>798827.0</td>\n",
       "    </tr>\n",
       "  </tbody>\n",
       "</table>\n",
       "</div>"
      ],
      "text/plain": [
       "         id                    artist      gender_dist  \\\n",
       "179791  480            tegan and sara  [0, 2, 2, 0, 0]   \n",
       "124761  868  mindless self indulgence  [0, 3, 3, 0, 0]   \n",
       "168843  782         the white stripes  [0, 1, 1, 0, 0]   \n",
       "239409  121                     björk  [0, 0, 1, 0, 0]   \n",
       "157787  944             avril lavigne  [0, 0, 1, 0, 0]   \n",
       "18752   355                   madonna  [0, 0, 1, 0, 0]   \n",
       "177873  550            britney spears  [0, 0, 1, 0, 0]   \n",
       "101810  519            regina spektor  [0, 0, 1, 0, 0]   \n",
       "167421  971                     feist  [0, 0, 1, 0, 0]   \n",
       "33297   798                 cat power  [0, 0, 1, 0, 0]   \n",
       "\n",
       "                                       mb-id  identified_gender  playcount  \n",
       "179791  d13f0f47-36f9-4661-87fe-2de56f45c649                  2  1407535.0  \n",
       "124761  44f42386-a733-4b51-8298-fe5c807d03aa                  2  1350253.0  \n",
       "168843  11ae9fbb-f3d7-4a47-936f-4c0a04d3b3b5                  2  1301270.0  \n",
       "239409  87c5dedd-371d-4a53-9f7f-80522fb7f3cb                  2  1257140.0  \n",
       "157787  0103c1cc-4a09-4a5d-a344-56ad99a77193                  2  1133039.0  \n",
       "18752   79239441-bfd5-4981-a70c-55c3f15c1287                  2  1106060.0  \n",
       "177873  45a663b5-b1cb-4a91-bff6-2bef7bbfdd76                  2   935535.0  \n",
       "101810  fbb375f9-48bb-4635-824e-4120273b3ba7                  2   883801.0  \n",
       "167421  a670e05a-cea8-4b37-bce9-d82daf1a0fa4                  2   848077.0  \n",
       "33297   05755bf1-380c-487f-983f-d1a02401fa28                  2   798827.0  "
      ]
     },
     "execution_count": 37,
     "metadata": {},
     "output_type": "execute_result"
    }
   ],
   "source": [
    "for id_a in artist_f.id.values:\n",
    "    pc = most_popular_artists_df[most_popular_artists_df.artistid == id_a].playcount.values[0]\n",
    "    artist_f.loc[artist_f['id'] == id_a, 'playcount'] = pc\n",
    "\n",
    "artist_f.sort_values(by=['playcount'], ascending=False)[:10]"
   ]
  }
 ],
 "metadata": {
  "kernelspec": {
   "display_name": "Python 3",
   "language": "python",
   "name": "python3"
  },
  "language_info": {
   "codemirror_mode": {
    "name": "ipython",
    "version": 3
   },
   "file_extension": ".py",
   "mimetype": "text/x-python",
   "name": "python",
   "nbconvert_exporter": "python",
   "pygments_lexer": "ipython3",
   "version": "3.6.9"
  }
 },
 "nbformat": 4,
 "nbformat_minor": 2
}
